{
  "nbformat": 4,
  "nbformat_minor": 0,
  "metadata": {
    "colab": {
      "name": "MAldridge_v2_MSIS549_HW3_RNN_Reuters.ipynb",
      "provenance": [],
      "collapsed_sections": [],
      "include_colab_link": true
    },
    "kernelspec": {
      "name": "python3",
      "display_name": "Python 3"
    }
  },
  "cells": [
    {
      "cell_type": "markdown",
      "metadata": {
        "id": "view-in-github",
        "colab_type": "text"
      },
      "source": [
        "<a href=\"https://colab.research.google.com/github/mialdrid/Python/blob/master/MAldridge_v2_MSIS549_HW3_RNN_Reuters.ipynb\" target=\"_parent\"><img src=\"https://colab.research.google.com/assets/colab-badge.svg\" alt=\"Open In Colab\"/></a>"
      ]
    },
    {
      "cell_type": "markdown",
      "metadata": {
        "id": "r2fyLhUMQlyH",
        "colab_type": "text"
      },
      "source": [
        "# MSIS 579 HW3 RNN to Classify Reuters Topics\n",
        "\n",
        "In this homework, we will train a recurrent neural network to Classify Reuters newswires into 46 Topics.\n",
        "\n",
        "Dataset of 11,228 newswires from Reuters, labeled over 46 topics. As with the IMDB dataset, each wire is encoded as a sequence of word indexes (same conventions)."
      ]
    },
    {
      "cell_type": "code",
      "metadata": {
        "id": "r3Y8ZHFGR1uq",
        "colab_type": "code",
        "outputId": "afaac3fa-4291-4b70-cecb-9a6a19078e1e",
        "colab": {
          "base_uri": "https://localhost:8080/",
          "height": 136
        }
      },
      "source": [
        "%tensorflow_version 1.14\n",
        "%matplotlib inline\n",
        "import warnings\n",
        "warnings.filterwarnings('ignore')\n",
        "\n",
        "import tensorflow as tf\n",
        "tf.logging.set_verbosity(tf.logging.ERROR)\n",
        "\n",
        "from __future__ import print_function\n",
        "\n",
        "import numpy as np\n",
        "import keras\n",
        "keras.__version__\n",
        "\n",
        "!pip install numpy==1.16.1"
      ],
      "execution_count": 1,
      "outputs": [
        {
          "output_type": "stream",
          "text": [
            "`%tensorflow_version` only switches the major version: 1.x or 2.x.\n",
            "You set: `1.14`. This will be interpreted as: `1.x`.\n",
            "\n",
            "\n",
            "TensorFlow 1.x selected.\n"
          ],
          "name": "stdout"
        },
        {
          "output_type": "stream",
          "text": [
            "Using TensorFlow backend.\n"
          ],
          "name": "stderr"
        },
        {
          "output_type": "stream",
          "text": [
            "Requirement already satisfied: numpy==1.16.1 in /usr/local/lib/python3.6/dist-packages (1.16.1)\n"
          ],
          "name": "stdout"
        }
      ]
    },
    {
      "cell_type": "markdown",
      "metadata": {
        "id": "Uvtq164jRPNz",
        "colab_type": "text"
      },
      "source": [
        "## Load Reuters Dataset\n",
        "\n",
        "First let's load the Reuters dataset. Please refer to [this API page](https://keras.io/datasets/#reuters-newswire-topics-classification) for details on how to load the data."
      ]
    },
    {
      "cell_type": "code",
      "metadata": {
        "id": "Mbt21X3mQjZw",
        "colab_type": "code",
        "outputId": "a6865d00-3ee1-49b7-8b23-825a469f0103",
        "colab": {
          "base_uri": "https://localhost:8080/",
          "height": 34
        }
      },
      "source": [
        "from keras.datasets import reuters\n",
        "from keras.models import Sequential\n",
        "from keras.layers import Dense, Dropout, Activation\n",
        "from keras import preprocessing\n",
        "from keras.preprocessing.text import Tokenizer\n",
        "\n",
        "max_words = 10000\n",
        "# (among top max_features most common words)\n",
        "maxlen = 200\n",
        "print('Loading data...')\n",
        "(x_train, y_train), (x_test, y_test) = reuters.load_data(num_words=max_words, test_split=0.2)\n",
        "word_index = reuters.get_word_index(path=\"reuters_word_index.json\")\n",
        "x_train = preprocessing.sequence.pad_sequences(x_train, maxlen=maxlen)\n",
        "x_test = preprocessing.sequence.pad_sequences(x_test, maxlen=maxlen)"
      ],
      "execution_count": 2,
      "outputs": [
        {
          "output_type": "stream",
          "text": [
            "Loading data...\n"
          ],
          "name": "stdout"
        }
      ]
    },
    {
      "cell_type": "code",
      "metadata": {
        "id": "aMHBMg4VWFI3",
        "colab_type": "code",
        "colab": {}
      },
      "source": [
        "from keras.utils import np_utils # one hot encode the y-label\n",
        "y_train = np_utils.to_categorical(y_train, 46)\n",
        "y_test = np_utils.to_categorical(y_test, 46)"
      ],
      "execution_count": 0,
      "outputs": []
    },
    {
      "cell_type": "markdown",
      "metadata": {
        "id": "Qd7wneSMSTpS",
        "colab_type": "text"
      },
      "source": [
        "## Task 1: Fully Connected Neural Networks\n",
        "\n",
        "In this task, we will learn a word embedding layer as well as fully connected layers to classify Reuters newwires. Please refer to the lab code from lesson 4. Watch out the overfitting. "
      ]
    },
    {
      "cell_type": "code",
      "metadata": {
        "id": "W7OPafLXRsnc",
        "colab_type": "code",
        "outputId": "12603931-a004-4111-b94c-80b987adbaa2",
        "colab": {
          "base_uri": "https://localhost:8080/",
          "height": 323
        }
      },
      "source": [
        "# TODO\n",
        "# Import model and layer types\n",
        "from keras.models import Sequential\n",
        "from keras.layers import Flatten, Dense\n",
        "from keras.layers import Embedding\n",
        "from keras import layers\n",
        "\n",
        "model = Sequential()\n",
        "# Add embedding layer and specify the max input length\n",
        "model.add(Embedding(10000, 8, input_length=maxlen))\n",
        "# Add additional model layers and define the activation function, optimizer and metrics\n",
        "model.add(Flatten())\n",
        "#model.add(Dense(64, activation='relu'))\n",
        "model.add(Dense(512, activation='relu'))\n",
        "model.add(Dropout(0.5))\n",
        "model.add(Dense(46, activation='softmax'))\n",
        "model.compile(optimizer='rmsprop', loss='categorical_crossentropy', metrics=['accuracy'])\n",
        "model.summary()\n",
        "\n"
      ],
      "execution_count": 4,
      "outputs": [
        {
          "output_type": "stream",
          "text": [
            "Model: \"sequential_1\"\n",
            "_________________________________________________________________\n",
            "Layer (type)                 Output Shape              Param #   \n",
            "=================================================================\n",
            "embedding_1 (Embedding)      (None, 200, 8)            80000     \n",
            "_________________________________________________________________\n",
            "flatten_1 (Flatten)          (None, 1600)              0         \n",
            "_________________________________________________________________\n",
            "dense_1 (Dense)              (None, 512)               819712    \n",
            "_________________________________________________________________\n",
            "dropout_1 (Dropout)          (None, 512)               0         \n",
            "_________________________________________________________________\n",
            "dense_2 (Dense)              (None, 46)                23598     \n",
            "=================================================================\n",
            "Total params: 923,310\n",
            "Trainable params: 923,310\n",
            "Non-trainable params: 0\n",
            "_________________________________________________________________\n"
          ],
          "name": "stdout"
        }
      ]
    },
    {
      "cell_type": "code",
      "metadata": {
        "id": "ZkKdWUnoVX37",
        "colab_type": "code",
        "outputId": "386ed8a5-9252-45ff-bf90-ee6ea902f7b5",
        "colab": {
          "base_uri": "https://localhost:8080/",
          "height": 374
        }
      },
      "source": [
        "# Fit the model\n",
        "history = model.fit(\n",
        "    x_train, \n",
        "    y_train,\n",
        "    epochs=10,\n",
        "    batch_size=32,\n",
        "    validation_split=0.2\n",
        ")\n"
      ],
      "execution_count": 5,
      "outputs": [
        {
          "output_type": "stream",
          "text": [
            "Train on 7185 samples, validate on 1797 samples\n",
            "Epoch 1/10\n",
            "7185/7185 [==============================] - 4s 515us/step - loss: 1.9961 - accuracy: 0.4771 - val_loss: 1.6422 - val_accuracy: 0.5843\n",
            "Epoch 2/10\n",
            "7185/7185 [==============================] - 4s 494us/step - loss: 1.4491 - accuracy: 0.6405 - val_loss: 1.4337 - val_accuracy: 0.6455\n",
            "Epoch 3/10\n",
            "7185/7185 [==============================] - 4s 492us/step - loss: 1.1046 - accuracy: 0.7253 - val_loss: 1.3167 - val_accuracy: 0.6828\n",
            "Epoch 4/10\n",
            "7185/7185 [==============================] - 4s 492us/step - loss: 0.8211 - accuracy: 0.7999 - val_loss: 1.3473 - val_accuracy: 0.6967\n",
            "Epoch 5/10\n",
            "7185/7185 [==============================] - 3s 476us/step - loss: 0.6113 - accuracy: 0.8532 - val_loss: 1.3926 - val_accuracy: 0.7028\n",
            "Epoch 6/10\n",
            "7185/7185 [==============================] - 3s 477us/step - loss: 0.4516 - accuracy: 0.8928 - val_loss: 1.5055 - val_accuracy: 0.7062\n",
            "Epoch 7/10\n",
            "7185/7185 [==============================] - 4s 491us/step - loss: 0.3432 - accuracy: 0.9173 - val_loss: 1.6217 - val_accuracy: 0.7001\n",
            "Epoch 8/10\n",
            "7185/7185 [==============================] - 4s 495us/step - loss: 0.2633 - accuracy: 0.9360 - val_loss: 1.7327 - val_accuracy: 0.6973\n",
            "Epoch 9/10\n",
            "7185/7185 [==============================] - 4s 513us/step - loss: 0.2120 - accuracy: 0.9499 - val_loss: 1.8701 - val_accuracy: 0.6912\n",
            "Epoch 10/10\n",
            "7185/7185 [==============================] - 4s 522us/step - loss: 0.1802 - accuracy: 0.9546 - val_loss: 1.9990 - val_accuracy: 0.6956\n"
          ],
          "name": "stdout"
        }
      ]
    },
    {
      "cell_type": "code",
      "metadata": {
        "id": "2aXv-QIOWnKE",
        "colab_type": "code",
        "outputId": "78ea63d9-184c-4ed8-856f-b7337f3e24e1",
        "colab": {
          "base_uri": "https://localhost:8080/",
          "height": 562
        }
      },
      "source": [
        "# Plot the model results and assess for over/under fitting trends\n",
        "import matplotlib.pyplot as plt\n",
        "\n",
        "acc = history.history['accuracy']\n",
        "val_acc = history.history['val_accuracy']\n",
        "loss = history.history['loss']\n",
        "val_loss = history.history['val_loss']\n",
        "\n",
        "epochs = range(len(acc))\n",
        "\n",
        "plt.plot(epochs, acc, 'bo', label='Training acc')\n",
        "plt.plot(epochs, val_acc, 'b', label='Validation acc')\n",
        "plt.title('Training and validation accuracy')\n",
        "plt.legend()\n",
        "\n",
        "plt.figure()\n",
        "\n",
        "plt.plot(epochs, loss, 'bo', label='Training loss')\n",
        "plt.plot(epochs, val_loss, 'b', label='Validation loss')\n",
        "plt.title('Training and validation loss')\n",
        "plt.legend()\n"
      ],
      "execution_count": 6,
      "outputs": [
        {
          "output_type": "execute_result",
          "data": {
            "text/plain": [
              "<matplotlib.legend.Legend at 0x7f4ced358fd0>"
            ]
          },
          "metadata": {
            "tags": []
          },
          "execution_count": 6
        },
        {
          "output_type": "display_data",
          "data": {
            "image/png": "[encoded data removed]",
            "text/plain": [
              "<Figure size 432x288 with 1 Axes>"
            ]
          },
          "metadata": {
            "tags": [],
            "needs_background": "light"
          }
        },
        {
          "output_type": "display_data",
          "data": {
            "image/png": "[encoded data removed]",
            "text/plain": [
              "<Figure size 432x288 with 1 Axes>"
            ]
          },
          "metadata": {
            "tags": [],
            "needs_background": "light"
          }
        }
      ]
    },
    {
      "cell_type": "code",
      "metadata": {
        "id": "wxKS3h3_Fc4V",
        "colab_type": "code",
        "outputId": "08bd4e8f-82de-425b-8899-7aef7a31161c",
        "colab": {
          "base_uri": "https://localhost:8080/",
          "height": 136
        }
      },
      "source": [
        "# Re-fit the model with a lower amount of epochs to lessen the effects of overfitting.\n",
        "history = model.fit(\n",
        "    x_train, \n",
        "    y_train,\n",
        "    epochs=3,\n",
        "    batch_size=32,\n",
        "    validation_split=0.2\n",
        ")"
      ],
      "execution_count": 7,
      "outputs": [
        {
          "output_type": "stream",
          "text": [
            "Train on 7185 samples, validate on 1797 samples\n",
            "Epoch 1/3\n",
            "7185/7185 [==============================] - 4s 516us/step - loss: 0.1491 - accuracy: 0.9602 - val_loss: 2.1133 - val_accuracy: 0.6867\n",
            "Epoch 2/3\n",
            "7185/7185 [==============================] - 4s 502us/step - loss: 0.1429 - accuracy: 0.9601 - val_loss: 2.2093 - val_accuracy: 0.6856\n",
            "Epoch 3/3\n",
            "7185/7185 [==============================] - 4s 500us/step - loss: 0.1395 - accuracy: 0.9617 - val_loss: 2.2344 - val_accuracy: 0.6878\n"
          ],
          "name": "stdout"
        }
      ]
    },
    {
      "cell_type": "code",
      "metadata": {
        "id": "MV3DuDFbRo6g",
        "colab_type": "code",
        "outputId": "0390d244-5eb9-454a-d92f-70bbaddbc303",
        "colab": {
          "base_uri": "https://localhost:8080/",
          "height": 562
        }
      },
      "source": [
        "#Re-plot the results to assess the changes\n",
        "import matplotlib.pyplot as plt\n",
        "\n",
        "acc = history.history['accuracy']\n",
        "val_acc = history.history['val_accuracy']\n",
        "loss = history.history['loss']\n",
        "val_loss = history.history['val_loss']\n",
        "\n",
        "epochs = range(len(acc))\n",
        "\n",
        "plt.plot(epochs, acc, 'bo', label='Training acc')\n",
        "plt.plot(epochs, val_acc, 'b', label='Validation acc')\n",
        "plt.title('Training and validation accuracy')\n",
        "plt.legend()\n",
        "\n",
        "plt.figure()\n",
        "\n",
        "plt.plot(epochs, loss, 'bo', label='Training loss')\n",
        "plt.plot(epochs, val_loss, 'b', label='Validation loss')\n",
        "plt.title('Training and validation loss')\n",
        "plt.legend()"
      ],
      "execution_count": 8,
      "outputs": [
        {
          "output_type": "execute_result",
          "data": {
            "text/plain": [
              "<matplotlib.legend.Legend at 0x7f4ced0e4710>"
            ]
          },
          "metadata": {
            "tags": []
          },
          "execution_count": 8
        },
        {
          "output_type": "display_data",
          "data": {
            "image/png": "[encoded data removed]",
            "text/plain": [
              "<Figure size 432x288 with 1 Axes>"
            ]
          },
          "metadata": {
            "tags": [],
            "needs_background": "light"
          }
        },
        {
          "output_type": "display_data",
          "data": {
            "image/png": "[encoded data removed]",
            "text/plain": [
              "<Figure size 432x288 with 1 Axes>"
            ]
          },
          "metadata": {
            "tags": [],
            "needs_background": "light"
          }
        }
      ]
    },
    {
      "cell_type": "markdown",
      "metadata": {
        "id": "w9__yxAHUSrb",
        "colab_type": "text"
      },
      "source": [
        "## Task 2: RNN/LSTM\n",
        "Now, we have a fully connected neural networks trained for prediction topics in Reuters data. In this task, we will swap out the fully connect layers and replace with a more powerful RNN layers (LSTM, GRU). Try experiment with different RNN layers and see if they can help improve the model performance."
      ]
    },
    {
      "cell_type": "code",
      "metadata": {
        "id": "QXGH40siUTT9",
        "colab_type": "code",
        "outputId": "348c7a69-1da7-43e3-a0f7-826abc533c36",
        "colab": {
          "base_uri": "https://localhost:8080/",
          "height": 119
        }
      },
      "source": [
        "# TODO\n",
        "# Import the model and layers\n",
        "from keras.datasets import reuters\n",
        "from keras.models import Sequential\n",
        "from keras.layers import Dense, Dropout, Activation\n",
        "from keras import preprocessing\n",
        "from keras.preprocessing.text import Tokenizer\n",
        "from keras.preprocessing import sequence\n",
        "\n",
        "max_features = 10000  # = the  number of words to consider as features\n",
        "maxlen = 500  # cut texts after this number of words (among top max_features most common words)\n",
        "batch_size = 32\n",
        "\n",
        "print('Loading data...')\n",
        "(input_train, y_train), (input_test, y_test) = reuters.load_data(num_words=max_features, test_split=0.2)\n",
        "print(len(input_train), 'train sequences')\n",
        "print(len(input_test), 'test sequences')\n",
        "\n",
        "print('Pad sequences (samples x time)')\n",
        "input_train = sequence.pad_sequences(input_train, maxlen=maxlen)\n",
        "input_test = sequence.pad_sequences(input_test, maxlen=maxlen)\n",
        "print('input_train shape:', input_train.shape)\n",
        "print('input_test shape:', input_test.shape)"
      ],
      "execution_count": 9,
      "outputs": [
        {
          "output_type": "stream",
          "text": [
            "Loading data...\n",
            "8982 train sequences\n",
            "2246 test sequences\n",
            "Pad sequences (samples x time)\n",
            "input_train shape: (8982, 500)\n",
            "input_test shape: (2246, 500)\n"
          ],
          "name": "stdout"
        }
      ]
    },
    {
      "cell_type": "code",
      "metadata": {
        "id": "dsaiD3xqXMW5",
        "colab_type": "code",
        "colab": {}
      },
      "source": [
        "#once again, we need to one hot encode labes\n",
        "from keras.utils import np_utils\n",
        "one_hot_train_labels = np_utils.to_categorical(y_train)\n",
        "one_hot_test_labels = np_utils.to_categorical(y_test)\n",
        "\n",
        "#train test\n",
        "partial_x_train = input_train\n",
        "\n",
        "partial_y_train = one_hot_train_labels\n",
        "\n",
        "#train test\n",
        "x_test = input_test\n",
        "\n",
        "y_test = one_hot_test_labels"
      ],
      "execution_count": 0,
      "outputs": []
    },
    {
      "cell_type": "code",
      "metadata": {
        "id": "znGT26SiVjtt",
        "colab_type": "code",
        "outputId": "ad1e3c58-5b07-4288-e3c9-812df1369508",
        "colab": {
          "base_uri": "https://localhost:8080/",
          "height": 204
        }
      },
      "source": [
        "from keras.models import Sequential\n",
        "from keras.layers import Dense, Embedding, SimpleRNN\n",
        "from keras.layers import LSTM\n",
        "# Build the model and added layers; define the activation function, optimizer and metrics\n",
        "model = Sequential()\n",
        "model.add(Embedding(max_features, 32))\n",
        "model.add(SimpleRNN(32, return_sequences=True))\n",
        "model.add(SimpleRNN(32, return_sequences=True))\n",
        "model.add(SimpleRNN(32, return_sequences=True))\n",
        "model.add(LSTM(32))\n",
        "model.add(Dense(46, activation='softmax'))\n",
        "\n",
        "model.compile(optimizer='rmsprop', loss='categorical_crossentropy', metrics=['accuracy'])\n",
        "history = model.fit(\n",
        "    partial_x_train, \n",
        "    partial_y_train,\n",
        "    epochs=5,\n",
        "    batch_size=128,\n",
        "    validation_split=0.2\n",
        ")"
      ],
      "execution_count": 11,
      "outputs": [
        {
          "output_type": "stream",
          "text": [
            "Train on 7185 samples, validate on 1797 samples\n",
            "Epoch 1/5\n",
            "7185/7185 [==============================] - 43s 6ms/step - loss: 2.6749 - accuracy: 0.3439 - val_loss: 2.3213 - val_accuracy: 0.4747\n",
            "Epoch 2/5\n",
            "7185/7185 [==============================] - 43s 6ms/step - loss: 2.1960 - accuracy: 0.4646 - val_loss: 2.1882 - val_accuracy: 0.3962\n",
            "Epoch 3/5\n",
            "7185/7185 [==============================] - 42s 6ms/step - loss: 1.9864 - accuracy: 0.4987 - val_loss: 1.9376 - val_accuracy: 0.4886\n",
            "Epoch 4/5\n",
            "7185/7185 [==============================] - 43s 6ms/step - loss: 1.8244 - accuracy: 0.5264 - val_loss: 1.8217 - val_accuracy: 0.5298\n",
            "Epoch 5/5\n",
            "7185/7185 [==============================] - 44s 6ms/step - loss: 1.6741 - accuracy: 0.5628 - val_loss: 1.7195 - val_accuracy: 0.5487\n"
          ],
          "name": "stdout"
        }
      ]
    },
    {
      "cell_type": "code",
      "metadata": {
        "id": "YqPw2ZBUZQjc",
        "colab_type": "code",
        "colab": {
          "base_uri": "https://localhost:8080/",
          "height": 545
        },
        "outputId": "a85a086a-eb96-43d0-829e-9131a59e6983"
      },
      "source": [
        "# plot the results and assess for under/overfitting trends\n",
        "import matplotlib.pyplot as plt\n",
        "\n",
        "acc = history.history['accuracy']\n",
        "val_acc = history.history['val_accuracy']\n",
        "loss = history.history['loss']\n",
        "val_loss = history.history['val_loss']\n",
        "\n",
        "epochs = range(len(acc))\n",
        "\n",
        "plt.plot(epochs, acc, 'bo', label='Training acc')\n",
        "plt.plot(epochs, val_acc, 'b', label='Validation acc')\n",
        "plt.title('Training and validation accuracy')\n",
        "plt.legend()\n",
        "\n",
        "plt.figure()\n",
        "\n",
        "plt.plot(epochs, loss, 'bo', label='Training loss')\n",
        "plt.plot(epochs, val_loss, 'b', label='Validation loss')\n",
        "plt.title('Training and validation loss')\n",
        "plt.legend()\n",
        "\n",
        "plt.show()"
      ],
      "execution_count": 12,
      "outputs": [
        {
          "output_type": "display_data",
          "data": {
            "image/png": "[encoded data removed]",
            "text/plain": [
              "<Figure size 432x288 with 1 Axes>"
            ]
          },
          "metadata": {
            "tags": [],
            "needs_background": "light"
          }
        },
        {
          "output_type": "display_data",
          "data": {
            "image/png": "[encoded data removed]",
            "text/plain": [
              "<Figure size 432x288 with 1 Axes>"
            ]
          },
          "metadata": {
            "tags": [],
            "needs_background": "light"
          }
        }
      ]
    },
    {
      "cell_type": "markdown",
      "metadata": {
        "id": "asCa299TUV7N",
        "colab_type": "text"
      },
      "source": [
        "## Task 3: Use a Pre-trained Word Embedding\n",
        "\n",
        "In this task, instead of learning the word embedding layer from scratch, we apply a pre-trained word embedding layer and only use the classification base for reuters data. Please refer to the [API](https://keras.io/examples/pretrained_word_embeddings/) for different pre-trained word embedding.\n",
        "\n",
        "Does the pre-trained word embedding help improve the model prediction?\n"
      ]
    },
    {
      "cell_type": "code",
      "metadata": {
        "id": "MkQprFAyU-0g",
        "colab_type": "code",
        "outputId": "27622ce1-6c9a-4e88-a367-6d5a3cc433fe",
        "colab": {
          "base_uri": "https://localhost:8080/",
          "height": 425
        }
      },
      "source": [
        "import os\n",
        "import shutil\n",
        "import zipfile\n",
        "import sys\n",
        "import numpy as np\n",
        "from keras.preprocessing.text import Tokenizer\n",
        "from keras.preprocessing.sequence import pad_sequences\n",
        "from keras.utils import to_categorical\n",
        "from keras.layers import Dense, Input, GlobalMaxPooling1D\n",
        "from keras.layers import Conv1D, MaxPooling1D, Embedding\n",
        "from keras.models import Model\n",
        "from keras.initializers import Constant\n",
        "\n",
        "!wget --no-check-certificate \\\n",
        "    \"http://nlp.stanford.edu/data/glove.6B.zip\" \\\n",
        "    -O \"/tmp/glove.6B.zip\"\n",
        "\n",
        "local_zip = '/tmp/glove.6B.zip'\n",
        "zip_ref   = zipfile.ZipFile(local_zip, 'r')\n",
        "zip_ref.extractall('/tmp')\n",
        "zip_ref.infolist()"
      ],
      "execution_count": 4,
      "outputs": [
        {
          "output_type": "stream",
          "text": [
            "--2020-05-09 17:30:22--  http://nlp.stanford.edu/data/glove.6B.zip\n",
            "Resolving nlp.stanford.edu (nlp.stanford.edu)... 171.64.67.140\n",
            "Connecting to nlp.stanford.edu (nlp.stanford.edu)|171.64.67.140|:80... connected.\n",
            "HTTP request sent, awaiting response... 302 Found\n",
            "Location: https://nlp.stanford.edu/data/glove.6B.zip [following]\n",
            "--2020-05-09 17:30:23--  https://nlp.stanford.edu/data/glove.6B.zip\n",
            "Connecting to nlp.stanford.edu (nlp.stanford.edu)|171.64.67.140|:443... connected.\n",
            "HTTP request sent, awaiting response... 301 Moved Permanently\n",
            "Location: http://downloads.cs.stanford.edu/nlp/data/glove.6B.zip [following]\n",
            "--2020-05-09 17:30:23--  http://downloads.cs.stanford.edu/nlp/data/glove.6B.zip\n",
            "Resolving downloads.cs.stanford.edu (downloads.cs.stanford.edu)... 171.64.64.22\n",
            "Connecting to downloads.cs.stanford.edu (downloads.cs.stanford.edu)|171.64.64.22|:80... connected.\n",
            "HTTP request sent, awaiting response... 200 OK\n",
            "Length: 862182613 (822M) [application/zip]\n",
            "Saving to: ‘/tmp/glove.6B.zip’\n",
            "\n",
            "/tmp/glove.6B.zip   100%[===================>] 822.24M  2.00MB/s    in 6m 28s  \n",
            "\n",
            "2020-05-09 17:36:51 (2.12 MB/s) - ‘/tmp/glove.6B.zip’ saved [862182613/862182613]\n",
            "\n"
          ],
          "name": "stdout"
        },
        {
          "output_type": "execute_result",
          "data": {
            "text/plain": [
              "[<ZipInfo filename='glove.6B.50d.txt' compress_type=deflate filemode='-rw-rw-r--' file_size=171350079 compress_size=69182485>,\n",
              " <ZipInfo filename='glove.6B.100d.txt' compress_type=deflate filemode='-rw-rw-r--' file_size=347116733 compress_size=134300389>,\n",
              " <ZipInfo filename='glove.6B.200d.txt' compress_type=deflate filemode='-rw-rw-r--' file_size=693432828 compress_size=264336891>,\n",
              " <ZipInfo filename='glove.6B.300d.txt' compress_type=deflate filemode='-rw-rw-r--' file_size=1037962819 compress_size=394362180>]"
            ]
          },
          "metadata": {
            "tags": []
          },
          "execution_count": 4
        }
      ]
    },
    {
      "cell_type": "code",
      "metadata": {
        "colab_type": "code",
        "id": "Yx3kM8LOO9cO",
        "colab": {}
      },
      "source": [
        "# Import model, layering and other APIs\n",
        "from keras.datasets import reuters\n",
        "from keras.models import Sequential\n",
        "from keras.layers import Dense, Dropout, Activation\n",
        "from keras import preprocessing\n",
        "from keras.preprocessing.text import Tokenizer\n",
        "from keras.preprocessing import sequence\n",
        "\n",
        "EMBEDDING_DIM = 100\n"
      ],
      "execution_count": 0,
      "outputs": []
    },
    {
      "cell_type": "code",
      "metadata": {
        "id": "HRY9j0s65OMZ",
        "colab_type": "code",
        "outputId": "dcbfe236-55ff-4374-ea04-1b93c040435b",
        "colab": {
          "base_uri": "https://localhost:8080/",
          "height": 51
        }
      },
      "source": [
        "print('Indexing word vectors.')\n",
        "# Loop through word vectors\n",
        "embeddings_index = {}\n",
        "with open(os.path.join('/tmp/glove.6B.100d.txt')) as f:\n",
        "    for line in f:\n",
        "        word, coefs = line.split(maxsplit=1)\n",
        "        coefs = np.fromstring(coefs, 'f', sep=' ')\n",
        "        embeddings_index[word] = coefs\n",
        "\n",
        "print('Found %s word vectors.' % len(embeddings_index))"
      ],
      "execution_count": 7,
      "outputs": [
        {
          "output_type": "stream",
          "text": [
            "Indexing word vectors.\n",
            "Found 400000 word vectors.\n"
          ],
          "name": "stdout"
        }
      ]
    },
    {
      "cell_type": "code",
      "metadata": {
        "id": "VXjNsH88PKeK",
        "colab_type": "code",
        "outputId": "e1cccc21-eccb-49dc-b57a-e7c249d06583",
        "colab": {
          "base_uri": "https://localhost:8080/",
          "height": 34
        }
      },
      "source": [
        "print('Preparing embedding matrix.')\n",
        "\n",
        "# prepare embedding matrix\n",
        "\n",
        "num_words = min(max_words, len(word_index) + 1)\n",
        "embedding_matrix = np.zeros((num_words, EMBEDDING_DIM))\n",
        "for word, i in word_index.items():\n",
        "    if i >= max_words:\n",
        "        continue\n",
        "    embedding_vector = embeddings_index.get(word)\n",
        "    if embedding_vector is not None:\n",
        "        # words not found in embedding index will be all-zeros.\n",
        "        embedding_matrix[i] = embedding_vector\n",
        "\n",
        "# Add the pre-trained word embeddings into a layer\n",
        "# note that we set trainable = False so as to keep the embeddings fixed\n",
        "embedding_layer = Embedding(num_words,\n",
        "                            EMBEDDING_DIM,\n",
        "                            embeddings_initializer=Constant(embedding_matrix),\n",
        "                            input_length=maxlen,\n",
        "                            trainable=False)"
      ],
      "execution_count": 8,
      "outputs": [
        {
          "output_type": "stream",
          "text": [
            "Preparing embedding matrix.\n"
          ],
          "name": "stdout"
        }
      ]
    },
    {
      "cell_type": "code",
      "metadata": {
        "id": "q8g-tebuPT9T",
        "colab_type": "code",
        "outputId": "23d6d006-e72c-4741-9361-c4bbf6de91e8",
        "colab": {
          "base_uri": "https://localhost:8080/",
          "height": 391
        }
      },
      "source": [
        "\n",
        "print('Training model.')\n",
        "\n",
        "# train a 1D convnet with global maxpooling\n",
        "sequence_input = Input(shape=(maxlen,), dtype='int32')\n",
        "embedded_sequences = embedding_layer(sequence_input)\n",
        "x=(Dropout(0.5))(embedded_sequences)\n",
        "x = Conv1D(128, 5, activation='relu')(x)\n",
        "x = MaxPooling1D(5)(x)\n",
        "x = Conv1D(128, 5, activation='relu')(x)\n",
        "x = MaxPooling1D(5)(x)\n",
        "x = Conv1D(128, 5, activation='relu')(x)\n",
        "x = GlobalMaxPooling1D()(x)\n",
        "x = Dense(128, activation='relu')(x)\n",
        "preds = Dense(46, activation='softmax')(x)\n",
        "\n",
        "model = Model(sequence_input, preds)\n",
        "model.compile(loss='categorical_crossentropy',\n",
        "              optimizer='rmsprop',\n",
        "              metrics=['acc'])\n",
        "\n",
        "history = model.fit(x_train, y_train,\n",
        "          batch_size=128,\n",
        "          epochs=10,\n",
        "          validation_split=0.2)"
      ],
      "execution_count": 9,
      "outputs": [
        {
          "output_type": "stream",
          "text": [
            "Training model.\n",
            "Train on 7185 samples, validate on 1797 samples\n",
            "Epoch 1/10\n",
            "7185/7185 [==============================] - 15s 2ms/step - loss: 2.3500 - acc: 0.3836 - val_loss: 2.2600 - val_acc: 0.3484\n",
            "Epoch 2/10\n",
            "7185/7185 [==============================] - 15s 2ms/step - loss: 2.0670 - acc: 0.4600 - val_loss: 2.0569 - val_acc: 0.4725\n",
            "Epoch 3/10\n",
            "7185/7185 [==============================] - 15s 2ms/step - loss: 1.9865 - acc: 0.4668 - val_loss: 2.0723 - val_acc: 0.4908\n",
            "Epoch 4/10\n",
            "7185/7185 [==============================] - 15s 2ms/step - loss: 1.9212 - acc: 0.4792 - val_loss: 1.8947 - val_acc: 0.4964\n",
            "Epoch 5/10\n",
            "7185/7185 [==============================] - 15s 2ms/step - loss: 1.8693 - acc: 0.5041 - val_loss: 1.8210 - val_acc: 0.5214\n",
            "Epoch 6/10\n",
            "7185/7185 [==============================] - 15s 2ms/step - loss: 1.8114 - acc: 0.5187 - val_loss: 2.0516 - val_acc: 0.4140\n",
            "Epoch 7/10\n",
            "7185/7185 [==============================] - 15s 2ms/step - loss: 1.7566 - acc: 0.5307 - val_loss: 1.8575 - val_acc: 0.4930\n",
            "Epoch 8/10\n",
            "7185/7185 [==============================] - 15s 2ms/step - loss: 1.7235 - acc: 0.5496 - val_loss: 1.7214 - val_acc: 0.5570\n",
            "Epoch 9/10\n",
            "7185/7185 [==============================] - 15s 2ms/step - loss: 1.6644 - acc: 0.5566 - val_loss: 1.7062 - val_acc: 0.5648\n",
            "Epoch 10/10\n",
            "7185/7185 [==============================] - 15s 2ms/step - loss: 1.6235 - acc: 0.5701 - val_loss: 1.7627 - val_acc: 0.5415\n"
          ],
          "name": "stdout"
        }
      ]
    },
    {
      "cell_type": "code",
      "metadata": {
        "id": "RT3bZE5SZOdz",
        "colab_type": "code",
        "colab": {
          "base_uri": "https://localhost:8080/",
          "height": 562
        },
        "outputId": "d3a232cb-f5f0-4157-d29d-958153909b98"
      },
      "source": [
        "# Plot the model results to assess for over/under fitting\n",
        "import matplotlib.pyplot as plt\n",
        "\n",
        "acc = history.history['acc']\n",
        "val_acc = history.history['val_acc']\n",
        "loss = history.history['loss']\n",
        "val_loss = history.history['val_loss']\n",
        "\n",
        "epochs = range(len(acc))\n",
        "\n",
        "plt.plot(epochs, acc, 'bo', label='Training acc')\n",
        "plt.plot(epochs, val_acc, 'b', label='Validation acc')\n",
        "plt.title('Training and validation accuracy')\n",
        "plt.legend()\n",
        "\n",
        "plt.figure()\n",
        "\n",
        "plt.plot(epochs, loss, 'bo', label='Training loss')\n",
        "plt.plot(epochs, val_loss, 'b', label='Validation loss')\n",
        "plt.title('Training and validation loss')\n",
        "plt.legend()\n"
      ],
      "execution_count": 10,
      "outputs": [
        {
          "output_type": "execute_result",
          "data": {
            "text/plain": [
              "<matplotlib.legend.Legend at 0x7f3309dbedd8>"
            ]
          },
          "metadata": {
            "tags": []
          },
          "execution_count": 10
        },
        {
          "output_type": "display_data",
          "data": {
            "image/png": "[encoded data removed]",
            "text/plain": [
              "<Figure size 432x288 with 1 Axes>"
            ]
          },
          "metadata": {
            "tags": [],
            "needs_background": "light"
          }
        },
        {
          "output_type": "display_data",
          "data": {
            "image/png": "[encoded data removed]",
            "text/plain": [
              "<Figure size 432x288 with 1 Axes>"
            ]
          },
          "metadata": {
            "tags": [],
            "needs_background": "light"
          }
        }
      ]
    },
    {
      "cell_type": "code",
      "metadata": {
        "id": "pWkGcBDJktQM",
        "colab_type": "code",
        "colab": {}
      },
      "source": [
        "test_eval = model.evaluate(x_test, y_test, verbose=0)"
      ],
      "execution_count": 0,
      "outputs": []
    },
    {
      "cell_type": "code",
      "metadata": {
        "id": "z7iwOZ_Skvnf",
        "colab_type": "code",
        "colab": {
          "base_uri": "https://localhost:8080/",
          "height": 51
        },
        "outputId": "ebadadcc-ea29-42ce-83ed-4fb1537311ba"
      },
      "source": [
        "print('Test loss:', test_eval[0])\n",
        "print('Test accuracy:', test_eval[1])"
      ],
      "execution_count": 12,
      "outputs": [
        {
          "output_type": "stream",
          "text": [
            "Test loss: 1.7954947787103968\n",
            "Test accuracy: 0.529830813407898\n"
          ],
          "name": "stdout"
        }
      ]
    },
    {
      "cell_type": "markdown",
      "metadata": {
        "id": "-Io3GRT8kyRK",
        "colab_type": "text"
      },
      "source": [
        "The pre-trained model did not substantially improve the model prediction - the test accuracy is .52. Additionally, increasing the Epochs increases the risk of overfitting the model. The size of the training data set may be the issue here."
      ]
    },
    {
      "cell_type": "code",
      "metadata": {
        "id": "r-s1lIYmlCTZ",
        "colab_type": "code",
        "colab": {}
      },
      "source": [
        ""
      ],
      "execution_count": 0,
      "outputs": []
    }
  ]
}