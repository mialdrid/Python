{
  "nbformat": 4,
  "nbformat_minor": 0,
  "metadata": {
    "colab": {
      "name": "MAldridge-IA3",
      "provenance": [],
      "collapsed_sections": [],
      "authorship_tag": "ABX9TyMKrDTDNQiO367TAdlRAyMQ",
      "include_colab_link": true
    },
    "kernelspec": {
      "name": "python3",
      "display_name": "Python 3"
    }
  },
  "cells": [
    {
      "cell_type": "markdown",
      "metadata": {
        "id": "view-in-github",
        "colab_type": "text"
      },
      "source": [
        "<a href=\"https://colab.research.google.com/github/mialdrid/Python/blob/master/MAldridge_IA3.ipynb\" target=\"_parent\"><img src=\"https://colab.research.google.com/assets/colab-badge.svg\" alt=\"Open In Colab\"/></a>"
      ]
    },
    {
      "cell_type": "code",
      "metadata": {
        "id": "x03tYt_C-d1s",
        "colab_type": "code",
        "outputId": "7d7d0029-d1e5-4596-e913-4d9e985eae00",
        "colab": {
          "base_uri": "https://localhost:8080/",
          "height": 191
        }
      },
      "source": [
        "import pandas as pd\n",
        "import numpy as np\n",
        "import nltk\n",
        "nltk.download('punkt') # tokenizer\n",
        "nltk.download('wordnet') # lemmatizer\n",
        "nltk.download('stopwords') # used to handle words like a, an, the\n",
        "nltk.download('averaged_perceptron_tagger') # Part of Speech\n",
        "\n",
        "from nltk.corpus import stopwords\n",
        "from sklearn.feature_extraction.text import TfidfVectorizer\n",
        "from sklearn.feature_extraction.text import CountVectorizer\n",
        "\n",
        "import gensim\n",
        "from gensim.utils import simple_preprocess\n",
        "from gensim.parsing.preprocessing import STOPWORDS\n",
        "from nltk.stem import WordNetLemmatizer, SnowballStemmer\n",
        "from nltk.stem.porter import *\n",
        "np.random.seed(2018)\n",
        "\n",
        "from sklearn.decomposition import LatentDirichletAllocation\n",
        "from sklearn.metrics import *\n",
        "from sklearn.metrics.pairwise import *\n",
        "from sklearn.cluster import AgglomerativeClustering"
      ],
      "execution_count": 1,
      "outputs": [
        {
          "output_type": "stream",
          "text": [
            "[nltk_data] Downloading package punkt to /root/nltk_data...\n",
            "[nltk_data]   Package punkt is already up-to-date!\n",
            "[nltk_data] Downloading package wordnet to /root/nltk_data...\n",
            "[nltk_data]   Package wordnet is already up-to-date!\n",
            "[nltk_data] Downloading package stopwords to /root/nltk_data...\n",
            "[nltk_data]   Package stopwords is already up-to-date!\n",
            "[nltk_data] Downloading package averaged_perceptron_tagger to\n",
            "[nltk_data]     /root/nltk_data...\n",
            "[nltk_data]   Package averaged_perceptron_tagger is already up-to-\n",
            "[nltk_data]       date!\n"
          ],
          "name": "stdout"
        }
      ]
    },
    {
      "cell_type": "code",
      "metadata": {
        "id": "cLmlANON-4vF",
        "colab_type": "code",
        "outputId": "f87d1f81-1a29-4fa3-9cbb-1c9a72d56ba6",
        "colab": {
          "base_uri": "https://localhost:8080/",
          "height": 202
        }
      },
      "source": [
        "#Read in csv file\n",
        "df = pd.read_csv(\"https://raw.githubusercontent.com/AnoVando/MSIS/master/IA3.csv\")\n",
        "#head() to verify that data read in properly\n",
        "df.head()"
      ],
      "execution_count": 2,
      "outputs": [
        {
          "output_type": "execute_result",
          "data": {
            "text/html": [
              "<div>\n",
              "<style scoped>\n",
              "    .dataframe tbody tr th:only-of-type {\n",
              "        vertical-align: middle;\n",
              "    }\n",
              "\n",
              "    .dataframe tbody tr th {\n",
              "        vertical-align: top;\n",
              "    }\n",
              "\n",
              "    .dataframe thead th {\n",
              "        text-align: right;\n",
              "    }\n",
              "</style>\n",
              "<table border=\"1\" class=\"dataframe\">\n",
              "  <thead>\n",
              "    <tr style=\"text-align: right;\">\n",
              "      <th></th>\n",
              "      <th>id</th>\n",
              "      <th>review</th>\n",
              "      <th>label</th>\n",
              "    </tr>\n",
              "  </thead>\n",
              "  <tbody>\n",
              "    <tr>\n",
              "      <th>0</th>\n",
              "      <td>1</td>\n",
              "      <td>About the shop: There is a restaurant in Soi L...</td>\n",
              "      <td>restaurant</td>\n",
              "    </tr>\n",
              "    <tr>\n",
              "      <th>1</th>\n",
              "      <td>2</td>\n",
              "      <td>About the shop: Through this store for about t...</td>\n",
              "      <td>restaurant</td>\n",
              "    </tr>\n",
              "    <tr>\n",
              "      <th>2</th>\n",
              "      <td>3</td>\n",
              "      <td>Roast Coffee &amp;amp; Eatery is a restaurant loca...</td>\n",
              "      <td>restaurant</td>\n",
              "    </tr>\n",
              "    <tr>\n",
              "      <th>3</th>\n",
              "      <td>4</td>\n",
              "      <td>Eat from the children. The shop is opposite. P...</td>\n",
              "      <td>restaurant</td>\n",
              "    </tr>\n",
              "    <tr>\n",
              "      <th>4</th>\n",
              "      <td>5</td>\n",
              "      <td>The Ak 1 shop at another branch tastes the sam...</td>\n",
              "      <td>restaurant</td>\n",
              "    </tr>\n",
              "  </tbody>\n",
              "</table>\n",
              "</div>"
            ],
            "text/plain": [
              "   id                                             review       label\n",
              "0   1  About the shop: There is a restaurant in Soi L...  restaurant\n",
              "1   2  About the shop: Through this store for about t...  restaurant\n",
              "2   3  Roast Coffee &amp; Eatery is a restaurant loca...  restaurant\n",
              "3   4  Eat from the children. The shop is opposite. P...  restaurant\n",
              "4   5  The Ak 1 shop at another branch tastes the sam...  restaurant"
            ]
          },
          "metadata": {
            "tags": []
          },
          "execution_count": 2
        }
      ]
    },
    {
      "cell_type": "code",
      "metadata": {
        "id": "Ru0hX7qkB7Z0",
        "colab_type": "code",
        "outputId": "38a224c5-9ac6-4bd9-8bd0-62f888e9d6cf",
        "colab": {
          "base_uri": "https://localhost:8080/",
          "height": 87
        }
      },
      "source": [
        "#Check for any null values\n",
        "df.isnull().any()"
      ],
      "execution_count": 3,
      "outputs": [
        {
          "output_type": "execute_result",
          "data": {
            "text/plain": [
              "id        False\n",
              "review    False\n",
              "label     False\n",
              "dtype: bool"
            ]
          },
          "metadata": {
            "tags": []
          },
          "execution_count": 3
        }
      ]
    },
    {
      "cell_type": "code",
      "metadata": {
        "id": "9xFRg_A0CFKb",
        "colab_type": "code",
        "colab": {}
      },
      "source": [
        "#Create list containing the review data\n",
        "review_data=df[\"review\"].tolist()"
      ],
      "execution_count": 0,
      "outputs": []
    },
    {
      "cell_type": "code",
      "metadata": {
        "id": "ddW9S3uyCX9B",
        "colab_type": "code",
        "outputId": "1ef86f3c-ff77-4c3b-c8ce-99049c7a7add",
        "colab": {
          "base_uri": "https://localhost:8080/",
          "height": 191
        }
      },
      "source": [
        "#Step 1: Tokenize\n",
        "token_review =[]\n",
        "for i in review_data:\n",
        "  token = nltk.word_tokenize(i)\n",
        "  token_review.append(token)\n",
        "\n",
        "print(token_review)"
      ],
      "execution_count": 5,
      "outputs": [
        {
          "output_type": "stream",
          "text": [
            "IOPub data rate exceeded.\n",
            "The notebook server will temporarily stop sending output\n",
            "to the client in order to avoid crashing it.\n",
            "To change this limit, set the config variable\n",
            "`--NotebookApp.iopub_data_rate_limit`.\n",
            "\n",
            "Current values:\n",
            "NotebookApp.iopub_data_rate_limit=1000000.0 (bytes/sec)\n",
            "NotebookApp.rate_limit_window=3.0 (secs)\n",
            "\n"
          ],
          "name": "stderr"
        }
      ]
    },
    {
      "cell_type": "code",
      "metadata": {
        "id": "lvpkEfmaHmdR",
        "colab_type": "code",
        "outputId": "e86f9630-23fa-436d-bab6-cd1114deba5f",
        "colab": {
          "base_uri": "https://localhost:8080/",
          "height": 191
        }
      },
      "source": [
        "#1 term-doc matrix and lemmatize\n",
        "lemmatize_review = []\n",
        "lemmatizer = nltk.stem.WordNetLemmatizer()\n",
        "for i in token_review:\n",
        "  lemmatized_review = [lemmatizer.lemmatize(x) for x in i if x.isalpha()]\n",
        "  lemmatize_review.append(lemmatized_review)\n",
        "print(lemmatize_review)"
      ],
      "execution_count": 6,
      "outputs": [
        {
          "output_type": "stream",
          "text": [
            "IOPub data rate exceeded.\n",
            "The notebook server will temporarily stop sending output\n",
            "to the client in order to avoid crashing it.\n",
            "To change this limit, set the config variable\n",
            "`--NotebookApp.iopub_data_rate_limit`.\n",
            "\n",
            "Current values:\n",
            "NotebookApp.iopub_data_rate_limit=1000000.0 (bytes/sec)\n",
            "NotebookApp.rate_limit_window=3.0 (secs)\n",
            "\n"
          ],
          "name": "stderr"
        }
      ]
    },
    {
      "cell_type": "code",
      "metadata": {
        "id": "7g0DZLg9MA7f",
        "colab_type": "code",
        "colab": {}
      },
      "source": [
        "#remove stopwords\n",
        "from nltk.corpus import stopwords\n",
        "stopWordEnglish = stopwords.words('english')\n",
        "stopword_list=['I','l','lt','gt','quot','wa','ha','Ourselves','Hers','Between','Yourself','But','Again','There','About','Once',\n",
        "               'During','Out','Very','Having','With','They','Own','an','Be','Some','For','Do', 'Its', 'Yours', 'Such', 'Into',\n",
        "               'Of', 'Most', 'Itself', 'Other', 'Off', 'Is', 'S', 'Am', 'Or', 'Who', 'As', 'From', 'Him', 'Each', 'The', 'Themselves',\n",
        "               'Until', 'Below', 'Are', 'We', 'These', 'Your', 'His', 'Through', 'Don', 'Nor', 'Me', 'Were', 'Her', 'More', 'Himself',\n",
        "               'This', 'Down', 'Should', 'Our', 'Their', 'While', 'Above', 'Both', 'Up', 'To', 'Ours', 'Had', 'She', 'All', 'No', 'When',\n",
        "               'At', 'Any', 'Before', 'Them', 'Same', 'And', 'Been', 'Have', 'In', 'Will', 'On', 'Does', 'Yourselves', 'Then', 'That', 'Because',\n",
        "               'What', 'Over', 'Why', 'So', 'Can', 'Did', 'Not', 'Now', 'Under', 'He', 'You', 'Herself', 'Has', 'Just', 'Where', 'Too', 'Only',\n",
        "               'Myself', 'which', 'those', 'After', 'Few', 'Whom', 'T', 'Being', 'If', 'Theirs', 'My', 'Against', 'A', 'By', 'Doing', 'It', 'How',\n",
        "               'Further', 'Was', 'Here', 'Than']\n",
        "stopWordEnglish.extend(stopword_list)\n",
        "stop_words = []\n",
        "\n",
        "for stop in lemmatize_review:\n",
        "  stop_words_removed = [x for x in stop if x not in stopWordEnglish]\n",
        "  stop_words.append(stop_words_removed)"
      ],
      "execution_count": 0,
      "outputs": []
    },
    {
      "cell_type": "code",
      "metadata": {
        "id": "kT9oVtCwIr1K",
        "colab_type": "code",
        "outputId": "eb870220-1f04-4647-96fa-9b01e0473494",
        "colab": {
          "base_uri": "https://localhost:8080/",
          "height": 228
        }
      },
      "source": [
        "#Create a tf-id vector in order to run the lda model\n",
        "from sklearn.feature_extraction.text import CountVectorizer\n",
        "\n",
        "input2 = [\" \".join(x) for x in stop_words]\n",
        "\n",
        "count = CountVectorizer(ngram_range=(2, 2), min_df=5)\n",
        "count.fit(input2)\n",
        "v2 = count.transform(input2)\n",
        "terms = count.get_feature_names()\n",
        "print(terms)\n",
        "print(count.vocabulary_)\n",
        "print('\\n')\n",
        "print(v2.toarray())\n"
      ],
      "execution_count": 8,
      "outputs": [
        {
          "output_type": "stream",
          "text": [
            "['acting skill', 'action film', 'action movie', 'actor also', 'add little', 'add lot', 'addition also', 'addition film', 'advantage disadvantage', 'air room', 'almost every', 'along way', 'also available', 'also become', 'also called', 'also caused', 'also gave', 'also good', 'also know', 'also known', 'also let', 'also like', 'also line', 'also little', 'also made', 'also make', 'also many', 'also need', 'also said', 'also see', 'also show', 'also simple', 'also think', 'also true', 'also want', 'although film', 'although know', 'although many', 'although plot', 'although still', 'although story', 'always feel', 'always felt', 'always make', 'always people', 'always think', 'always thought', 'american drama', 'american movie', 'ancient time', 'animated film', 'another menu', 'another place', 'another point', 'anything else', 'around world', 'art film', 'atmosphere good', 'atmosphere nice', 'atmosphere restaurant', 'atmosphere shop', 'audience also', 'audience like', 'audience watching', 'average price', 'award best', 'back eat', 'back home', 'back try', 'background story', 'bad film', 'bad guy', 'bad thing', 'baht delicious', 'baht dish', 'baht eat', 'baht menu', 'baht per', 'bai fumei', 'bass fish', 'battle film', 'battle stalingrad', 'beautiful love', 'beautiful picture', 'beautiful thing', 'beautiful woman', 'beautifully decorated', 'become new', 'beef pork', 'beginning end', 'beginning film', 'beginning movie', 'behind scene', 'believe love', 'best choice', 'best director', 'best film', 'best supporting', 'best way', 'better say', 'better think', 'big breast', 'big brother', 'big girl', 'big glass', 'big man', 'big money', 'big screen', 'big villain', 'biggest feature', 'biggest problem', 'bit bit', 'bit like', 'black hole', 'black white', 'blind date', 'bloody battle', 'blue sky', 'book also', 'book author', 'book read', 'book review', 'book say', 'book think', 'book written', 'bottle baht', 'bottom heart', 'bottom line', 'box office', 'brain powder', 'bright spot', 'brother sister', 'bruce lee', 'burst tear', 'buy back', 'caesar salad', 'cake also', 'cake delicious', 'cake many', 'cake soft', 'came back', 'cannon fodder', 'car accident', 'chance try', 'character also', 'character character', 'character film', 'character plot', 'cheese cake', 'chemical reaction', 'chen sicheng', 'chiang mai', 'chicken fried', 'chicken rice', 'chicken soup', 'chicken wing', 'child also', 'chili sauce', 'chinese audience', 'chinese film', 'chinese movie', 'chinese people', 'chinese restaurant', 'chocolate cake', 'chocolate delicious', 'chocolate lava', 'choose sit', 'climax film', 'coconut milk', 'coffee shop', 'coffee tea', 'collective memory', 'college student', 'come back', 'come restaurant', 'come together', 'comedy film', 'comment win', 'commercial film', 'commit suicide', 'committed suicide', 'compare price', 'compared price', 'competition good', 'completely different', 'content film', 'contradiction conflict', 'could see', 'count dracula', 'course also', 'course film', 'crab fried', 'crab meat', 'cream cheese', 'cream delicious', 'cream shop', 'cream topped', 'cream vanilla', 'cream whipped', 'crepe cake', 'crime film', 'crispy pork', 'cruelty war', 'cultural revolution', 'cup coffee', 'cure disease', 'current situation', 'curry powder', 'da ming', 'daily life', 'dark side', 'day ago', 'day day', 'day like', 'day night', 'death also', 'death squad', 'decoration shop', 'deep deep', 'deep fried', 'deeply immersed', 'deeply touched', 'delicious delicious', 'delicious dish', 'delicious eat', 'delicious expensive', 'delicious food', 'delicious good', 'delicious like', 'delicious menu', 'delicious price', 'delicious really', 'delicious sauce', 'delicious shop', 'delicious shrimp', 'delicious sweet', 'delicious taste', 'dessert like', 'dessert menu', 'detail film', 'different kind', 'difficult find', 'difficult say', 'difficult see', 'difficult thing', 'difficult understand', 'dim sum', 'dipping sauce', 'director also', 'director film', 'director screenwriter', 'director want', 'dish delicious', 'dish eat', 'dish like', 'dish ordered', 'dish restaurant', 'divided three', 'divided two', 'doe care', 'doe give', 'doe know', 'doe like', 'doe love', 'doe mean', 'doe want', 'dog blood', 'domestic film', 'domestic movie', 'domestically produced', 'drama conflict', 'drama still', 'drink coffee', 'drinking water', 'eat cake', 'eat delicious', 'eat eat', 'eat food', 'eat friend', 'eat hot', 'eat ice', 'eat like', 'eat lot', 'eat lunch', 'eat meat', 'eat people', 'eat restaurant', 'eat rice', 'eat shop', 'eat time', 'eat today', 'eat together', 'eat two', 'eat want', 'eat well', 'egg shrimp', 'egg yolk', 'eight year', 'element film', 'elf hostel', 'embarked road', 'emotional drama', 'emotional entanglement', 'end film', 'end movie', 'end world', 'enough eat', 'enough get', 'enough make', 'enough think', 'enough time', 'entire film', 'even know', 'even love', 'even said', 'even think', 'even though', 'every day', 'every time', 'every year', 'everyone else', 'everyone know', 'everyone see', 'everyone think', 'evil spirit', 'expensive compared', 'experience also', 'eye others', 'fact also', 'fact film', 'fact make', 'fact many', 'fact think', 'fairy tale', 'fall love', 'family also', 'family ethic', 'family life', 'family love', 'family member', 'fang zuming', 'far away', 'fast food', 'fat man', 'father daughter', 'father love', 'father son', 'fatherly love', 'feature film', 'feel good', 'feel like', 'feel little', 'feeling film', 'fell love', 'female audience', 'female character', 'female host', 'female lord', 'female master', 'female owner', 'female protagonist', 'female star', 'female student', 'fierce battle', 'fighting scene', 'filial piety', 'film actor', 'film actually', 'film almost', 'film also', 'film although', 'film always', 'film art', 'film based', 'film best', 'film big', 'film called', 'film character', 'film course', 'film creation', 'film director', 'film doe', 'film especially', 'film even', 'film fact', 'film feel', 'film festival', 'film film', 'film finally', 'film first', 'film full', 'film give', 'film good', 'film industry', 'film kind', 'film last', 'film least', 'film like', 'film look', 'film love', 'film made', 'film make', 'film many', 'film market', 'film must', 'film often', 'film one', 'film quite', 'film really', 'film review', 'film seems', 'film seen', 'film starring', 'film still', 'film story', 'film taken', 'film television', 'film tell', 'film time', 'film unique', 'film us', 'film used', 'film want', 'film whether', 'film world', 'final result', 'finally found', 'finally got', 'finally realized', 'finally turned', 'find another', 'find good', 'first branch', 'first chapter', 'first day', 'first episode', 'first glance', 'first half', 'first love', 'first one', 'first part', 'first place', 'first reaction', 'first sight', 'first thing', 'first time', 'first two', 'fish ball', 'fish fillet', 'fish fish', 'fish fresh', 'fish fried', 'fish sauce', 'five year', 'flesh blood', 'food delicious', 'food eat', 'food good', 'food like', 'food menu', 'food ordered', 'food price', 'food restaurant', 'food taste', 'food tasty', 'food think', 'foreign country', 'forgive think', 'four year', 'fresh delicious', 'fresh fish', 'fresh seafood', 'fresh shrimp', 'fresh vegetable', 'fried chicken', 'fried egg', 'fried fish', 'fried fried', 'fried garlic', 'fried pork', 'fried rice', 'fried sea', 'fried shrimp', 'fried vegetable', 'friend eat', 'friend said', 'front shop', 'front store', 'gave birth', 'german army', 'german officer', 'german soldier', 'get along', 'get better', 'get good', 'get know', 'get married', 'get rid', 'get together', 'get used', 'give audience', 'give people', 'glutinous rice', 'go back', 'go home', 'go see', 'go store', 'go top', 'go work', 'going back', 'going eat', 'golden globe', 'golden horse', 'golden shell', 'golden shelling', 'good also', 'good atmosphere', 'good bad', 'good choice', 'good day', 'good delicious', 'good eat', 'good enough', 'good evil', 'good food', 'good friend', 'good good', 'good idea', 'good job', 'good let', 'good life', 'good like', 'good look', 'good luck', 'good man', 'good many', 'good movie', 'good night', 'good one', 'good people', 'good person', 'good place', 'good price', 'good quality', 'good reputation', 'good restaurant', 'good see', 'good service', 'good standard', 'good story', 'good taste', 'good thing', 'good time', 'good value', 'good work', 'great place', 'green tea', 'grilled pork', 'group people', 'gun battle', 'half film', 'half hour', 'half year', 'hammer brother', 'handsome guy', 'handsome men', 'happy ending', 'happy happy', 'happy life', 'hard find', 'hard say', 'hard work', 'heart always', 'heart people', 'heaven earth', 'heavy rain', 'heavy taste', 'help think', 'hero film', 'hidden behind', 'high degree', 'high enough', 'high iq', 'high school', 'highlight film', 'history book', 'history film', 'hollywood blockbuster', 'hollywood film', 'hollywood movie', 'hong kong', 'horror film', 'horror movie', 'hot chocolate', 'hot cold', 'however film', 'however still', 'human body', 'human nature', 'hundred year', 'husband wife', 'ice cream', 'idea good', 'ideal country', 'important part', 'important role', 'important thing', 'inside outside', 'intentionally unintentionally', 'international film', 'invisible people', 'iron man', 'italian food', 'italian restaurant', 'jackie chan', 'japanese food', 'japanese japanese', 'japanese restaurant', 'justice evil', 'kind film', 'kind life', 'kind love', 'kind people', 'kind person', 'kind thing', 'know kind', 'know know', 'know many', 'know much', 'know restaurant', 'know say', 'know think', 'know truth', 'know want', 'kong film', 'kung fu', 'large amount', 'large number', 'large piece', 'last episode', 'last minute', 'last moment', 'last one', 'last time', 'last two', 'last year', 'late night', 'latter half', 'latter part', 'left behind', 'left right', 'lemon juice', 'let alone', 'let audience', 'let daughter', 'let eat', 'let go', 'let people', 'let say', 'let see', 'let take', 'let talk', 'let try', 'life also', 'life although', 'life always', 'life death', 'life even', 'life experience', 'life family', 'life finally', 'life full', 'life good', 'life life', 'life like', 'life love', 'life make', 'life seems', 'life still', 'life two', 'life want', 'like big', 'like dish', 'like drink', 'like eat', 'like eating', 'like good', 'like green', 'like home', 'like kind', 'like know', 'like like', 'like love', 'like many', 'like movie', 'like much', 'like old', 'like people', 'like person', 'like please', 'like pork', 'like sauce', 'like see', 'like take', 'like talk', 'like taste', 'like think', 'like watch', 'lin xue', 'lin yue', 'lin zhiling', 'line film', 'line like', 'line movie', 'literature art', 'little bit', 'little girl', 'little little', 'little price', 'little story', 'little times', 'live life', 'live music', 'living environment', 'local tyrant', 'located soi', 'long ago', 'long time', 'look awkward', 'look back', 'look beautiful', 'look feel', 'look film', 'look forward', 'look good', 'look like', 'look people', 'looking back', 'looking forward', 'lost life', 'lot film', 'lot fun', 'lot money', 'lot people', 'lot thing', 'love also', 'love always', 'love beginning', 'love come', 'love comedy', 'love drama', 'love eat', 'love end', 'love family', 'love film', 'love first', 'love friendship', 'love hate', 'love life', 'love like', 'love long', 'love love', 'love man', 'love men', 'love movie', 'love much', 'love see', 'love small', 'love still', 'love story', 'love time', 'love triangle', 'love two', 'love way', 'love world', 'loved one', 'made feel', 'made film', 'made good', 'made great', 'made lot', 'made people', 'magic weapon', 'main body', 'main character', 'main dish', 'main line', 'main theme', 'mainland movie', 'make audience', 'make big', 'make difficult', 'make feel', 'make film', 'make good', 'make life', 'make mistake', 'make money', 'make people', 'make story', 'make whole', 'making people', 'male character', 'male female', 'male lead', 'male lord', 'male master', 'male one', 'male owner', 'male protagonist', 'man doe', 'man love', 'man woman', 'many case', 'many character', 'many delicious', 'many good', 'many menu', 'many movie', 'many opportunity', 'many option', 'many people', 'many place', 'many story', 'many thing', 'many time', 'many year', 'martial art', 'matter many', 'matter whether', 'may also', 'may like', 'meat soft', 'meet need', 'mellow taste', 'men woman', 'mental illness', 'menu choose', 'menu delicious', 'menu good', 'menu like', 'menu many', 'menu menu', 'menu much', 'menu ordered', 'menu pork', 'menu recommend', 'menu recommended', 'menu restaurant', 'middle night', 'middle school', 'ming dynasty', 'ming robbery', 'mobile phone', 'modern people', 'moment life', 'month ago', 'mother said', 'move forward', 'movie also', 'movie always', 'movie character', 'movie full', 'movie good', 'movie like', 'movie look', 'movie love', 'movie made', 'movie market', 'movie movie', 'movie one', 'movie plot', 'movie really', 'movie story', 'much better', 'much eat', 'much like', 'much possible', 'murder case', 'must first', 'must go', 'must know', 'must said', 'must say', 'name good', 'narrative rhythm', 'narrative structure', 'narrative technique', 'never seen', 'never thought', 'new generation', 'new idea', 'new life', 'new menu', 'new restaurant', 'new world', 'new year', 'new york', 'new zealand', 'next day', 'next door', 'next generation', 'next one', 'next second', 'next time', 'next year', 'normal person', 'nothing say', 'nothing wrong', 'number people', 'oil painting', 'old age', 'old bone', 'old lady', 'old man', 'old one', 'old people', 'old still', 'one another', 'one comment', 'one day', 'one hand', 'one important', 'one know', 'one like', 'one love', 'one night', 'one one', 'one person', 'one point', 'one sentence', 'one step', 'one thing', 'one time', 'one two', 'one want', 'one year', 'open kitchen', 'open music', 'open new', 'opened door', 'opening film', 'opposite side', 'orange juice', 'order another', 'order food', 'order let', 'order make', 'order menu', 'order see', 'order survive', 'ordered eat', 'ordered menu', 'ordered today', 'ordinary people', 'original intention', 'oscar best', 'outside frame', 'outside world', 'overall delicious', 'overall taste', 'owner shop', 'papaya salad', 'park car', 'parking lot', 'part film', 'part life', 'passed away', 'past two', 'past year', 'pay attention', 'pay tribute', 'people also', 'people always', 'people around', 'people believe', 'people come', 'people different', 'people eat', 'people even', 'people feel', 'people film', 'people get', 'people good', 'people help', 'people kind', 'people know', 'people life', 'people like', 'people live', 'people look', 'people lot', 'people love', 'people may', 'people meet', 'people much', 'people must', 'people never', 'people people', 'people play', 'people put', 'people really', 'people said', 'people say', 'people see', 'people seem', 'people sense', 'people still', 'people take', 'people thing', 'people think', 'people time', 'people understand', 'people walk', 'people want', 'people willing', 'people world', 'per person', 'per piece', 'per plate', 'performance film', 'period time', 'person like', 'person love', 'person want', 'personal experience', 'personal opinion', 'personally think', 'phone call', 'piece art', 'piece film', 'place eat', 'place film', 'place sit', 'play little', 'play role', 'played role', 'please come', 'please forgive', 'plot film', 'plot movie', 'plot plot', 'point film', 'point view', 'police film', 'police officer', 'police station', 'popular film', 'pork bone', 'pork chop', 'pork leg', 'pork neck', 'pork rib', 'positive energy', 'price baht', 'price expensive', 'price high', 'price may', 'price per', 'price quite', 'price reasonable', 'price right', 'process watching', 'protagonist film', 'protagonist story', 'protect daughter', 'pure love', 'put bluntly', 'qing dynasty', 'quality film', 'quality food', 'quality ingredient', 'quite expensive', 'quite good', 'quite high', 'quite interesting', 'quite like', 'quite lot', 'quite satisfactory', 'rainy night', 'raw fish', 'raw material', 'read book', 'read novel', 'read review', 'reading book', 'reading film', 'real estate', 'real life', 'real thing', 'real world', 'really big', 'really delicious', 'really easy', 'really feel', 'really good', 'really know', 'really like', 'really make', 'really need', 'really think', 'really understand', 'really want', 'reasonable price', 'recent year', 'recommended eat', 'recommended menu', 'red bean', 'relationship character', 'relationship people', 'remember name', 'ren dahua', 'republic china', 'rest life', 'restaurant decorated', 'restaurant delicious', 'restaurant first', 'restaurant food', 'restaurant good', 'restaurant located', 'restaurant menu', 'restaurant nice', 'restaurant open', 'restaurant thank', 'returned home', 'rice crab', 'rice fried', 'rice noodle', 'rich man', 'rich second', 'right hand', 'right wrong', 'river lake', 'roasted pork', 'romantic comedy', 'romantic love', 'russian film', 'russian girl', 'russian soldier', 'said film', 'said many', 'said one', 'said people', 'said time', 'said would', 'salted egg', 'sauce baht', 'sauce delicious', 'sauce dish', 'sauce eat', 'sauce fried', 'sauce good', 'sauce like', 'sauce salty', 'sauce sweet', 'save money', 'say anything', 'say delicious', 'say film', 'say goodbye', 'say movie', 'say word', 'scene film', 'scene two', 'school student', 'science fiction', 'sea bass', 'seafood sauce', 'second generation', 'second half', 'second part', 'second time', 'see author', 'see food', 'see many', 'see menu', 'see people', 'see real', 'seen many', 'seen movie', 'selling point', 'sense humor', 'sense substitution', 'service charge', 'service good', 'service staff', 'several people', 'several time', 'shaping character', 'shed tear', 'shoot movie', 'shooting technique', 'shop also', 'shop full', 'shop located', 'shop opposite', 'shop see', 'shop shop', 'short period', 'short story', 'short worth', 'shot film', 'show love', 'shrimp fresh', 'shrimp paste', 'shrimp shrimp', 'siam center', 'side side', 'simple simple', 'simple story', 'single dish', 'singles day', 'sit eat', 'sit outside', 'sit table', 'slap face', 'small amount', 'small detail', 'small fresh', 'small piece', 'small shop', 'small town', 'smoked salmon', 'sneak peek', 'soft delicious', 'soft drink', 'soft meat', 'soft texture', 'solve problem', 'som tam', 'something like', 'sorrow sorrow', 'soup sweet', 'sour sauce', 'sour sweet', 'sour taste', 'south korea', 'south korean', 'soviet soldier', 'soviet union', 'soy sauce', 'space time', 'special effect', 'special forces', 'spend money', 'spicy taste', 'spring roll', 'staff attentive', 'staff good', 'star star', 'star wars', 'stark contrast', 'starting point', 'status quo', 'stay away', 'steamed rice', 'step step', 'sticky rice', 'still alive', 'still believe', 'still bit', 'still difficult', 'still enough', 'still good', 'still little', 'still lot', 'still many', 'still remember', 'still want', 'still young', 'stir fried', 'stir fry', 'story also', 'story behind', 'story character', 'story film', 'story full', 'story good', 'story love', 'story one', 'story people', 'story plot', 'story second', 'story simple', 'story still', 'story story', 'story structure', 'story tell', 'story two', 'strawberry sauce', 'style restaurant', 'subject matter', 'success failure', 'successful people', 'suddenly felt', 'suddenly realized', 'supporting actress', 'supporting role', 'sure case', 'suspense film', 'sweet bitter', 'sweet chocolate', 'sweet delicious', 'sweet good', 'sweet hot', 'sweet sour', 'sweet sweet', 'sweet taste', 'sweetheart chocolate', 'table chair', 'take away', 'take care', 'take lead', 'take look', 'take picture', 'take time', 'taken away', 'taken granted', 'taking care', 'taste delicious', 'taste eat', 'taste food', 'taste good', 'taste like', 'taste quite', 'taste restaurant', 'taste sour', 'taste spicy', 'taste standard', 'taste sweet', 'taste taste', 'tea coffee', 'tea ice', 'television drama', 'television work', 'tell story', 'tell truth', 'telling story', 'ten thousand', 'ten year', 'thai food', 'thai people', 'thai restaurant', 'theme film', 'theme movie', 'therefore film', 'thing done', 'thing know', 'thing life', 'thing like', 'thing make', 'thing need', 'thing one', 'thing people', 'thing still', 'think better', 'think film', 'think good', 'think much', 'think one', 'think way', 'third part', 'third time', 'thought would', 'thousand mile', 'thousand people', 'thousand year', 'three four', 'three hundred', 'three people', 'three star', 'three time', 'three view', 'three woman', 'three year', 'throughout film', 'time ago', 'time also', 'time come', 'time eat', 'time feel', 'time film', 'time finally', 'time first', 'time good', 'time know', 'time let', 'time life', 'time like', 'time little', 'time look', 'time many', 'time order', 'time passed', 'time people', 'time read', 'time really', 'time saw', 'time space', 'time think', 'time time', 'time try', 'time two', 'time want', 'time watched', 'time went', 'title book', 'today come', 'today eat', 'today ordered', 'today try', 'tom yum', 'tomato sauce', 'top page', 'topic atmosphere', 'topped chocolate', 'tough guy', 'traditional chinese', 'tried best', 'true face', 'true feeling', 'true love', 'true portrayal', 'try eat', 'try try', 'turn around', 'turned around', 'turning point', 'tv drama', 'tv series', 'tv show', 'twenty year', 'twilight city', 'twist turn', 'two actor', 'two country', 'two day', 'two different', 'two film', 'two hour', 'two men', 'two old', 'two part', 'two people', 'two side', 'two story', 'two thing', 'two tough', 'two type', 'two woman', 'two word', 'two world', 'two year', 'type film', 'united states', 'use word', 'value money', 'vampire dracula', 'vanilla ice', 'variety food', 'various angle', 'vegetable fresh', 'vegetable vegetable', 'viewing experience', 'visual effect', 'volga river', 'wait little', 'wait long', 'walk around', 'walk away', 'walk life', 'want eat', 'want find', 'want get', 'want go', 'want kill', 'want make', 'want order', 'want say', 'want see', 'want sit', 'want take', 'want talk', 'want tell', 'want try', 'war also', 'war film', 'war ii', 'war scene', 'war war', 'warm heart', 'watch film', 'watch movie', 'watched film', 'watched movie', 'watching film', 'watching movie', 'way love', 'way make', 'well food', 'well good', 'went back', 'western movie', 'whipped cream', 'whole family', 'whole film', 'whole movie', 'whole people', 'whole process', 'whole society', 'whole story', 'whole world', 'wife child', 'wife wife', 'win competition', 'without thinking', 'woman also', 'woman film', 'woman like', 'woman love', 'woman make', 'woman think', 'word mouth', 'work also', 'work hard', 'worked hard', 'working hard', 'world always', 'world one', 'world people', 'world still', 'world view', 'world war', 'worth mentioning', 'worth price', 'worth seeing', 'would like', 'write book', 'writer director', 'wu yusen', 'xu ruo', 'year ago', 'year even', 'year film', 'year later', 'year many', 'year old', 'year still', 'year year', 'young boy', 'young girl', 'young man', 'young men', 'young people', 'young woman', 'younger brother', 'zealand mussel', 'zhang hanyu']\n",
            "{'restaurant decorated': 1114, 'average price': 64, 'price baht': 1054, 'soup sweet': 1232, 'sweet taste': 1307, 'cream cheese': 193, 'eat together': 291, 'topic atmosphere': 1414, 'atmosphere nice': 58, 'food taste': 463, 'service good': 1184, 'good service': 547, 'good food': 524, 'price quite': 1059, 'quite expensive': 1072, 'atmosphere good': 57, 'good delicious': 520, 'delicious food': 226, 'like please': 699, 'please forgive': 1038, 'forgive think': 467, 'think one': 1359, 'one comment': 919, 'comment win': 177, 'win competition': 1514, 'competition good': 183, 'good restaurant': 545, 'restaurant thank': 1123, 'three year': 1374, 'first time': 445, 'time try': 1401, 'restaurant located': 1119, 'located soi': 725, 'bottle baht': 125, 'chicken wing': 155, 'spicy taste': 1245, 'united states': 1454, 'taste good': 1322, 'good enough': 522, 'value money': 1456, 'three star': 1370, 'see menu': 1175, 'menu like': 840, 'want eat': 1471, 'eat restaurant': 286, 'menu much': 843, 'menu recommended': 847, 'sauce delicious': 1147, 'delicious delicious': 222, 'delicious sweet': 235, 'sweet sour': 1305, 'people like': 988, 'like eat': 684, 'tomato sauce': 1412, 'personally think': 1027, 'italian restaurant': 613, 'see people': 1176, 'people eat': 978, 'eat lot': 282, 'like drink': 683, 'way make': 1498, 'make feel': 792, 'better think': 100, 'shop opposite': 1195, 'opposite side': 942, 'food eat': 456, 'think good': 1357, 'good idea': 527, 'delicious dish': 223, 'park car': 963, 'front shop': 486, 'go store': 506, 'today eat': 1408, 'baht per': 77, 'per person': 1017, 'two type': 1448, 'sweet delicious': 1302, 'delicious taste': 236, 'beef pork': 88, 'dipping sauce': 247, 'also good': 17, 'sauce sweet': 1154, 'delicious like': 228, 'like taste': 705, 'overall taste': 960, 'service staff': 1185, 'price per': 1058, 'variety food': 1459, 'personal opinion': 1026, 'please come': 1037, 'another place': 52, 'many people': 821, 'people love': 992, 'love eat': 751, 'long ago': 726, 'sit table': 1214, 'good time': 552, 'let say': 658, 'dish ordered': 255, 'shop full': 1193, 'try try': 1424, 'style restaurant': 1290, 'outside frame': 957, 'taste like': 1323, 'dish delicious': 252, 'pork rib': 1052, 'food price': 461, 'next time': 904, 'another menu': 51, 'good atmosphere': 516, 'doe know': 261, 'know restaurant': 629, 'taste quite': 1324, 'good choice': 518, 'good eat': 521, 'like like': 691, 'dish eat': 253, 'eat eat': 276, 'eat meat': 284, 'friend eat': 484, 'quite good': 1073, 'good price': 542, 'eat want': 293, 'order another': 944, 'raw fish': 1080, 'worth price': 1534, 'grilled pork': 557, 'dish like': 254, 'much eat': 875, 'soft delicious': 1224, 'baht eat': 75, 'eat rice': 287, 'long time': 727, 'thai restaurant': 1342, 'eat lunch': 283, 'restaurant nice': 1121, 'eat cake': 274, 'first branch': 432, 'atmosphere restaurant': 59, 'staff attentive': 1247, 'good value': 553, 'service charge': 1183, 'taste food': 1321, 'food ordered': 460, 'taste sour': 1326, 'sour sweet': 1234, 'make good': 794, 'new york': 897, 'chocolate cake': 163, 'idea good': 602, 'chiang mai': 151, 'compared price': 182, 'find good': 431, 'would like': 1536, 'going eat': 510, 'like big': 681, 'tom yum': 1411, 'fried fish': 476, 'fish fish': 449, 'fish sauce': 452, 'like think': 706, 'shrimp fresh': 1203, 'food menu': 459, 'eat people': 285, 'taste restaurant': 1325, 'restaurant good': 1118, 'good standard': 548, 'food delicious': 455, 'restaurant delicious': 1115, 'people lot': 991, 'try eat': 1423, 'whipped cream': 1503, 'crepe cake': 199, 'strawberry sauce': 1289, 'sweet sweet': 1306, 'shop located': 1194, 'open music': 938, 'feel like': 350, 'good one': 538, 'like take': 703, 'take look': 1313, 'thing make': 1350, 'make life': 795, 'fried rice': 480, 'rice noodle': 1127, 'expensive compared': 325, 'food good': 457, 'eat food': 277, 'eat today': 290, 'stir fried': 1270, 'fried pork': 479, 'look good': 734, 'good quality': 543, 'fresh shrimp': 472, 'good taste': 550, 'taste eat': 1320, 'restaurant food': 1117, 'italian food': 612, 'good see': 546, 'menu many': 841, 'many delicious': 815, 'food tasty': 464, 'small shop': 1220, 'vanilla ice': 1458, 'ice cream': 601, 'eat ice': 280, 'sweet bitter': 1300, 'hard find': 569, 'let try': 662, 'second time': 1171, 'time first': 1383, 'open new': 939, 'know know': 626, 'fast food': 342, 'green tea': 556, 'price reasonable': 1060, 'cream shop': 195, 'tea ice': 1332, 'delicious price': 230, 'per piece': 1018, 'topped chocolate': 1415, 'thai food': 1340, 'sit eat': 1212, 'enough eat': 306, 'delicious good': 227, 'price may': 1057, 'choose sit': 166, 'menu menu': 842, 'staff good': 1248, 'little bit': 715, 'know think': 631, 'go top': 507, 'top page': 1413, 'cheese cake': 148, 'eat delicious': 275, 'parking lot': 964, 'restaurant open': 1122, 'beautifully decorated': 86, 'come restaurant': 174, 'raw material': 1081, 'live music': 722, 'look beautiful': 730, 'beautiful picture': 83, 'like dish': 682, 'mellow taste': 834, 'two side': 1444, 'side side': 1207, 'wait long': 1467, 'compare price': 181, 'per plate': 1019, 'big glass': 104, 'caesar salad': 135, 'baht delicious': 73, 'table chair': 1309, 'buy back': 134, 'red bean': 1107, 'taste standard': 1328, 'today come': 1407, 'also many': 26, 'recommended menu': 1106, 'menu ordered': 844, 'delicious shop': 233, 'divided three': 257, 'want find': 1472, 'fish fresh': 450, 'overall delicious': 959, 'soy sauce': 1240, 'crab fried': 191, 'dim sum': 246, 'quite high': 1074, 'really want': 1102, 'want go': 1474, 'go home': 504, 'go work': 508, 'crispy pork': 201, 'two part': 1442, 'food restaurant': 462, 'smoked salmon': 1222, 'fried chicken': 474, 'meat soft': 832, 'salted egg': 1145, 'one time': 933, 'sure case': 1298, 'single dish': 1210, 'pork leg': 1050, 'time finally': 1382, 'price high': 1056, 'many year': 826, 'year ago': 1541, 'get together': 498, 'japanese food': 615, 'japanese restaurant': 617, 'people come': 976, 'let see': 659, 'pork chop': 1049, 'deep fried': 219, 'baht dish': 74, 'want order': 1477, 'order menu': 948, 'fish fried': 451, 'new menu': 893, 'eat well': 294, 'also available': 12, 'great place': 555, 'really good': 1095, 'around world': 55, 'fresh vegetable': 473, 'sauce baht': 1146, 'sour taste': 1235, 'fish ball': 447, 'coffee shop': 169, 'tea coffee': 1331, 'recommended eat': 1105, 'sweet hot': 1304, 'menu recommend': 846, 'fried garlic': 478, 'delicious menu': 229, 'lot people': 743, 'people may': 993, 'good place': 541, 'place eat': 1031, 'made lot': 780, 'front store': 487, 'like old': 696, 'let take': 660, 'cup coffee': 204, 'owner shop': 961, 'drink coffee': 272, 'cake soft': 139, 'doe like': 262, 'take care': 1311, 'shop also': 1192, 'meet need': 833, 'take away': 1310, 'dish restaurant': 256, 'love much': 765, 'chili sauce': 157, 'sauce dish': 1148, 'hong kong': 590, 'soft drink': 1225, 'food like': 458, 'today ordered': 1409, 'menu delicious': 838, 'new zealand': 898, 'zealand mussel': 1556, 'thai people': 1341, 'fresh fish': 470, 'fresh seafood': 471, 'different kind': 240, 'quality food': 1070, 'many option': 820, 'delicious expensive': 225, 'take picture': 1314, 'come back': 173, 'crab meat': 192, 'quite lot': 1077, 'really delicious': 1092, 'best way': 98, 'two story': 1445, 'feel good': 349, 'decoration shop': 217, 'people much': 995, 'order food': 945, 'vegetable vegetable': 1462, 'like much': 695, 'large piece': 638, 'coconut milk': 168, 'fried shrimp': 482, 'shrimp paste': 1204, 'fish fillet': 448, 'sauce good': 1151, 'eat like': 281, 'taste sweet': 1329, 'lemon juice': 651, 'eat two': 292, 'high enough': 581, 'third time': 1362, 'new year': 896, 'last year': 645, 'sea bass': 1166, 'bass fish': 79, 'seafood sauce': 1167, 'taste delicious': 1319, 'baht menu': 76, 'time think': 1399, 'curry powder': 207, 'stir fry': 1271, 'every time': 318, 'atmosphere shop': 60, 'price right': 1061, 'restaurant menu': 1120, 'shrimp shrimp': 1205, 'difficult find': 241, 'good like': 531, 'let eat': 655, 'want sit': 1480, 'time come': 1378, 'every day': 317, 'first day': 434, 'time many': 1391, 'know many': 627, 'cream delicious': 194, 'next day': 899, 'time order': 1392, 'people say': 1003, 'say delicious': 1157, 'delicious eat': 224, 'rice crab': 1125, 'many menu': 817, 'well food': 1499, 'want try': 1484, 'good day': 519, 'time ago': 1376, 'go back': 503, 'first glance': 436, 'ordered today': 953, 'today try': 1410, 'eat hot': 279, 'also little': 23, 'chinese restaurant': 162, 'eat shop': 288, 'rice fried': 1126, 'make money': 797, 'many good': 816, 'far away': 341, 'taste spicy': 1327, 'two people': 1443, 'half hour': 561, 'price expensive': 1055, 'time know': 1385, 'eat friend': 278, 'never thought': 889, 'thought would': 1363, 'coffee tea': 170, 'cake many': 138, 'back eat': 66, 'left right': 650, 'air room': 9, 'read review': 1084, 'delicious really': 231, 'past year': 969, 'get know': 495, 'really know': 1096, 'delicious shrimp': 234, 'chocolate delicious': 164, 'cake delicious': 137, 'good good': 526, 'people really': 1001, 'shop shop': 1197, 'sauce salty': 1153, 'chicken fried': 152, 'good also': 515, 'add little': 4, 'two thing': 1446, 'thing people': 1353, 'good friend': 525, 'chocolate lava': 165, 'delicious sauce': 232, 'menu choose': 837, 'sauce like': 1152, 'sticky rice': 1257, 'cream vanilla': 197, 'sauce eat': 1149, 'first part': 440, 'several time': 1187, 'last time': 643, 'well good': 1500, 'spend money': 1244, 'happy happy': 567, 'like sauce': 701, 'steamed rice': 1255, 'star star': 1249, 'people still': 1007, 'doe mean': 264, 'life always': 665, 'walk away': 1469, 'opened door': 940, 'outside world': 958, 'looking forward': 738, 'various angle': 1460, 'time passed': 1393, 'cream topped': 196, 'people time': 1011, 'much like': 876, 'fried sea': 481, 'let go': 656, 'sauce fried': 1150, 'like green': 687, 'pork neck': 1051, 'drinking water': 273, 'time people': 1394, 'small piece': 1219, 'orange juice': 943, 'place sit': 1033, 'people want': 1014, 'enough get': 307, 'chinese people': 161, 'like eating': 685, 'ordered eat': 951, 'chicken rice': 153, 'feel little': 351, 'hot cold': 594, 'family member': 339, 'papaya salad': 962, 'menu pork': 845, 'soft texture': 1227, 'chance try': 143, 'always think': 45, 'little price': 718, 'like see': 702, 'see many': 1174, 'new restaurant': 894, 'one like': 924, 'many thing': 824, 'never seen': 888, 'menu good': 839, 'spring roll': 1246, 'siam center': 1206, 'one day': 920, 'time eat': 1379, 'restaurant first': 1116, 'first one': 439, 'hot chocolate': 593, 'sweet chocolate': 1301, 'wait little': 1466, 'high school': 583, 'want see': 1479, 'good luck': 533, 'sour sauce': 1233, 'cream whipped': 198, 'fried egg': 475, 'egg yolk': 296, 'egg shrimp': 295, 'almost every': 10, 'along way': 11, 'enough time': 310, 'really big': 1091, 'som tam': 1229, 'people never': 997, 'menu restaurant': 848, 'sweet good': 1303, 'good work': 554, 'sit outside': 1213, 'fried fried': 477, 'although many': 37, 'last one': 642, 'good many': 535, 'book read': 120, 'taste taste': 1330, 'fried vegetable': 483, 'dessert like': 237, 'thing like': 1349, 'ordered menu': 952, 'five year': 453, 'time time': 1400, 'fresh delicious': 469, 'back home': 67, 'day day': 212, 'main dish': 785, 'lot thing': 744, 'like people': 697, 'little little': 717, 'three people': 1369, 'quite like': 1076, 'like pork': 700, 'read book': 1082, 'love come': 748, 'roasted pork': 1133, 'think better': 1355, 'many time': 825, 'oil painting': 910, 'younger brother': 1555, 'cake also': 136, 'reasonable price': 1103, 'back try': 68, 'two old': 1441, 'open kitchen': 937, 'pork bone': 1048, 'latter part': 648, 'part life': 966, 'know much': 628, 'love long': 760, 'good night': 537, 'walk around': 1468, 'remember name': 1110, 'lot fun': 741, 'like know': 690, 'fall love': 334, 'even know': 312, 'eat time': 289, 'time want': 1403, 'want say': 1478, 'heart people': 573, 'half year': 562, 'vegetable fresh': 1461, 'come together': 175, 'good let': 529, 'one know': 923, 'one night': 926, 'find another': 430, 'starting point': 1252, 'made good': 778, 'quality ingredient': 1071, 'one one': 927, 'life like': 674, 'many story': 823, 'soft meat': 1226, 'must say': 883, 'kind love': 621, 'number people': 909, 'lot money': 742, 'think much': 1358, 'like home': 688, 'also simple': 31, 'two word': 1450, 'good people': 539, 'people see': 1004, 'enough think': 309, 'like talk': 704, 'food think': 465, 'many opportunity': 819, 'shop see': 1196, 'whole family': 1504, 'line like': 712, 'use word': 1455, 'important thing': 606, 'people also': 972, 'order see': 949, 'two year': 1452, 'want get': 1473, 'divided two': 258, 'third part': 1361, 'doe want': 265, 'personal experience': 1025, 'glutinous rice': 502, 'want tell': 1483, 'two day': 1436, 'person like': 1022, 'people get': 982, 'look people': 736, 'dessert menu': 238, 'really like': 1097, 'good look': 532, 'know want': 633, 'good thing': 551, 'next door': 900, 'fact make': 330, 'hard say': 570, 'even though': 316, 'go see': 505, 'one want': 935, 'japanese japanese': 616, 'order let': 946, 'time good': 1384, 'time like': 1388, 'look like': 735, 'inside outside': 607, 'life good': 672, 'really need': 1099, 'pay attention': 970, 'first thing': 444, 'people know': 986, 'people good': 983, 'late night': 646, 'people walk': 1013, 'name good': 884, 'friend said': 485, 'see food': 1173, 'right hand': 1130, 'year year': 1548, 'year old': 1546, 'people live': 989, 'time little': 1389, 'old one': 915, 'chicken soup': 154, 'people think': 1010, 'may like': 831, 'day ago': 211, 'college student': 172, 'love way': 773, 'time went': 1405, 'see real': 1177, 'blue sky': 117, 'still good': 1263, 'first two': 446, 'much better': 874, 'make people': 798, 'first place': 441, 'bit bit': 111, 'three hundred': 1368, 'like good': 686, 'something like': 1230, 'enough make': 308, 'people around': 974, 'addition also': 6, 'star wars': 1250, 'know say': 630, 'ten thousand': 1338, 'still want': 1268, 'last two': 644, 'people feel': 980, 'good job': 528, 'love world': 774, 'anything else': 54, 'day night': 214, 'tv show': 1430, 'made feel': 776, 'also make': 25, 'one another': 918, 'bit like': 112, 'hard work': 571, 'small amount': 1216, 'still little': 1264, 'small town': 1221, 'say goodbye': 1159, 'also line': 22, 'must said': 882, 'sense humor': 1181, 'may also': 830, 'day like': 213, 'work hard': 1524, 'current situation': 206, 'get rid': 497, 'dog blood': 266, 'rest life': 1113, 'world view': 1531, 'human nature': 598, 'difficult thing': 244, 'thing know': 1347, 'family love': 338, 'taken away': 1316, 'played role': 1036, 'important part': 604, 'life love': 675, 'original intention': 955, 'character also': 144, 'highlight film': 584, 'love hate': 757, 'help think': 577, 'think film': 1356, 'shot film': 1201, 'one hand': 921, 'happy life': 568, 'life life': 673, 'film also': 369, 'south korea': 1236, 'film one': 406, 'one thing': 932, 'going back': 509, 'western movie': 1502, 'film story': 414, 'film television': 416, 'television drama': 1333, 'tv series': 1429, 'protagonist story': 1064, 'first episode': 435, 'protagonist film': 1063, 'film almost': 368, 'box office': 128, 'narrative structure': 886, 'tell story': 1335, 'passed away': 967, 'new generation': 890, 'said many': 1140, 'people willing': 1015, 'republic china': 1112, 'looking back': 737, 'always feel': 41, 'work also': 1523, 'thing one': 1352, 'middle school': 850, 'film good': 392, 'mobile phone': 853, 'phone call': 1028, 'make difficult': 791, 'modern people': 854, 'nothing wrong': 908, 'film director': 380, 'although still': 39, 'still many': 1266, 'narrative technique': 887, 'beginning end': 89, 'fighting scene': 364, 'two men': 1440, 'film film': 387, 'still young': 1269, 'film course': 378, 'course also': 189, 'lin xue': 708, 'add lot': 5, 'lot film': 740, 'chinese film': 159, 'film market': 403, 'domestic film': 267, 'quality film': 1069, 'without thinking': 1515, 'every year': 319, 'year still': 1547, 'people film': 981, 'good reputation': 544, 'cannon fodder': 141, 'film tell': 417, 'heavy taste': 576, 'blind date': 115, 'popular film': 1047, 'men woman': 835, 'year later': 1544, 'also see': 29, 'man woman': 812, 'filial piety': 365, 'kind people': 622, 'know kind': 625, 'made people': 781, 'bai fumei': 78, 'really make': 1098, 'young men': 1552, 'big screen': 107, 'true love': 1421, 'love still': 768, 'whole movie': 1506, 'special effect': 1242, 'time really': 1396, 'hundred year': 599, 'like kind': 689, 'director screenwriter': 250, 'female host': 356, 'commit suicide': 179, 'three time': 1371, 'seen many': 1178, 'father daughter': 344, 'fatherly love': 347, 'local tyrant': 724, 'two woman': 1449, 'tried best': 1418, 'rich man': 1128, 'second generation': 1168, 'real world': 1090, 'heavy rain': 575, 'want make': 1476, 'black white': 114, 'still lot': 1265, 'science fiction': 1165, 'whole film': 1505, 'time read': 1395, 'read novel': 1083, 'drama conflict': 270, 'latter half': 647, 'young woman': 1554, 'river lake': 1132, 'middle night': 849, 'still remember': 1267, 'get along': 492, 'young man': 1551, 'martial art': 827, 'take lead': 1312, 'woman also': 1516, 'like person': 698, 'look back': 729, 'big brother': 102, 'love end': 752, 'many character': 814, 'burst tear': 133, 'shoot movie': 1190, 'movie movie': 869, 'three woman': 1373, 'woman think': 1521, 'film still': 413, 'still alive': 1258, 'look forward': 733, 'whole world': 1511, 'also let': 20, 'film even': 383, 'people world': 1016, 'fell love': 353, 'love beginning': 747, 'beginning film': 90, 'film called': 376, 'story story': 1285, 'action movie': 2, 'even said': 314, 'love story': 769, 'justice evil': 618, 'make audience': 789, 'jackie chan': 614, 'american movie': 48, 'film like': 397, 'movie good': 863, 'chemical reaction': 149, 'get married': 496, 'always felt': 42, 'love also': 745, 'loved one': 775, 'family life': 337, 'life make': 676, 'good life': 530, 'female owner': 359, 'love love': 761, 'main theme': 787, 'theme movie': 1344, 'woman like': 1518, 'ren dahua': 1111, 'chen sicheng': 150, 'although plot': 38, 'two different': 1437, 'kong film': 634, 'murder case': 878, 'police officer': 1045, 'police film': 1044, 'kind film': 619, 'making people': 801, 'order make': 947, 'film made': 400, 'final result': 425, 'quite interesting': 1075, 'still bit': 1260, 'xu ruo': 1540, 'good evil': 523, 'last moment': 641, 'left behind': 649, 'time saw': 1397, 'tough guy': 1416, 'embarked road': 300, 'wu yusen': 1539, 'film world': 424, 'movie like': 864, 'fairy tale': 333, 'beautiful woman': 85, 'last episode': 639, 'beginning movie': 91, 'story second': 1282, 'make whole': 800, 'watching movie': 1496, 'brain powder': 129, 'big villain': 108, 'bright spot': 130, 'also become': 13, 'life death': 666, 'character plot': 147, 'give people': 501, 'people sense': 1006, 'said time': 1143, 'recent year': 1104, 'word mouth': 1522, 'make mistake': 796, 'next year': 905, 'ming dynasty': 851, 'film creation': 379, 'da ming': 208, 'two film': 1438, 'visual effect': 1464, 'ming robbery': 852, 'thousand mile': 1364, 'whole process': 1508, 'main line': 786, 'history book': 585, 'line film': 711, 'put bluntly': 1067, 'better say': 99, 'let alone': 652, 'difficult see': 243, 'writer director': 1538, 'contradiction conflict': 186, 'taking care': 1318, 'see author': 1172, 'deeply touched': 221, 'people meet': 994, 'book say': 122, 'book author': 119, 'old man': 914, 'little story': 719, 'car accident': 142, 'world still': 1530, 'little girl': 716, 'time life': 1387, 'love family': 753, 'crime film': 200, 'ordinary people': 954, 'film big': 375, 'film time': 418, 'time film': 1381, 'film unique': 419, 'made great': 779, 'theme film': 1343, 'also need': 27, 'daily life': 209, 'people always': 973, 'ten year': 1339, 'thousand people': 1365, 'everyone know': 321, 'know truth': 632, 'always people': 44, 'like love': 692, 'take time': 1315, 'slap face': 1215, 'one two': 934, 'thousand year': 1366, 'also said': 28, 'heart always': 572, 'still enough': 1262, 'solve problem': 1228, 'human body': 597, 'fact also': 328, 'also true': 33, 'point view': 1043, 'simple story': 1209, 'nothing say': 907, 'also know': 18, 'male protagonist': 809, 'want kill': 1475, 'male lead': 804, 'also caused': 15, 'actor also': 3, 'movie one': 870, 'twist turn': 1433, 'story plot': 1281, 'domestic movie': 268, 'fact film': 329, 'watch movie': 1492, 'ancient time': 49, 'movie made': 867, 'time also': 1377, 'film make': 401, 'make film': 793, 'horror film': 591, 'foreign country': 466, 'film fact': 384, 'therefore film': 1345, 'magic weapon': 782, 'good movie': 536, 'feeling film': 352, 'woman film': 1517, 'acting skill': 0, 'domestically produced': 269, 'said one': 1141, 'three four': 1367, 'four year': 468, 'really think': 1100, 'past two': 968, 'book think': 123, 'film many': 402, 'finally got': 427, 'best choice': 94, 'good man': 534, 'really feel': 1094, 'people seem': 1005, 'many movie': 818, 'film review': 409, 'month ago': 856, 'character character': 145, 'like movie': 694, 'story structure': 1286, 'right wrong': 1131, 'live life': 721, 'group people': 558, 'wife wife': 1513, 'real life': 1088, 'people play': 999, 'people life': 987, 'elf hostel': 299, 'comedy film': 176, 'subject matter': 1291, 'story character': 1274, 'child also': 156, 'movie really': 872, 'vampire dracula': 1457, 'let daughter': 654, 'people look': 990, 'twilight city': 1432, 'although story': 40, 'father love': 345, 'story people': 1280, 'love friendship': 756, 'animated film': 50, 'film want': 422, 'oscar best': 956, 'golden globe': 511, 'best film': 96, 'film best': 374, 'best director': 95, 'feature film': 348, 'male female': 803, 'large number': 637, 'male owner': 808, 'second half': 1169, 'half film': 560, 'point film': 1042, 'old age': 911, 'old lady': 913, 'award best': 65, 'although film': 35, 'worth mentioning': 1533, 'best supporting': 97, 'supporting actress': 1296, 'watching film': 1495, 'one point': 929, 'male one': 807, 'one love': 925, 'time watched': 1404, 'female lord': 357, 'people understand': 1012, 'tv drama': 1428, 'female master': 358, 'fact think': 332, 'male master': 806, 'everyone see': 322, 'many case': 813, 'think way': 1360, 'time look': 1390, 'book also': 118, 'film least': 396, 'whole people': 1507, 'finally found': 426, 'people believe': 975, 'get better': 493, 'suspense film': 1299, 'film really': 408, 'american drama': 47, 'film feel': 385, 'small fresh': 1218, 'also think': 32, 'say word': 1161, 'young people': 1553, 'fierce battle': 363, 'first half': 437, 'film industry': 393, 'seen movie': 1179, 'shooting technique': 1191, 'give audience': 500, 'relationship character': 1108, 'film art': 372, 'time space': 1398, 'film often': 405, 'whole society': 1509, 'period time': 1021, 'history film': 586, 'one person': 928, 'always make': 43, 'normal person': 906, 'big breast': 101, 'get used': 499, 'say anything': 1156, 'female student': 362, 'love small': 767, 'life two': 679, 'matter whether': 829, 'good bad': 517, 'must know': 881, 'commercial film': 178, 'singles day': 1211, 'romantic comedy': 1134, 'handsome men': 565, 'even think': 315, 'save money': 1155, 'love comedy': 749, 'year many': 1545, 'golden shell': 513, 'play little': 1034, 'several people': 1186, 'people put': 1000, 'young girl': 1550, 'could see': 187, 'film festival': 386, 'brother sister': 131, 'let audience': 653, 'suddenly realized': 1295, 'story one': 1279, 'film always': 371, 'also called': 14, 'let talk': 661, 'protect daughter': 1065, 'rainy night': 1079, 'twenty year': 1431, 'high iq': 582, 'step step': 1256, 'reading film': 1086, 'entire film': 311, 'like watch': 707, 'advantage disadvantage': 8, 'school student': 1164, 'black hole': 113, 'book written': 124, 'life experience': 668, 'real thing': 1089, 'must go': 880, 'movie character': 861, 'dark side': 210, 'selling point': 1180, 'stark contrast': 1251, 'count dracula': 188, 'throughout film': 1375, 'still difficult': 1261, 'background story': 69, 'story film': 1275, 'invisible people': 610, 'first sight': 443, 'true feeling': 1420, 'evil spirit': 324, 'traditional chinese': 1417, 'chinese audience': 158, 'war scene': 1488, 'hero film': 578, 'film especially': 382, 'cure disease': 205, 'person want': 1024, 'people said': 1002, 'large amount': 636, 'sorrow sorrow': 1231, 'qing dynasty': 1068, 'end world': 305, 'big man': 105, 'love first': 755, 'female protagonist': 360, 'type film': 1453, 'film taken': 415, 'new idea': 891, 'made film': 777, 'film full': 390, 'line movie': 713, 'movie plot': 871, 'film seems': 410, 'quite satisfactory': 1078, 'supporting role': 1297, 'woman make': 1520, 'look awkward': 728, 'movie look': 865, 'drama still': 271, 'two hour': 1439, 'time let': 1386, 'film kind': 394, 'battle stalingrad': 81, 'battle film': 80, 'love two': 772, 'hollywood film': 588, 'completely different': 184, 'film used': 421, 'cruelty war': 202, 'audience like': 62, 'soviet soldier': 1238, 'german officer': 490, 'war war': 1489, 'war film': 1486, 'deep deep': 218, 'sneak peek': 1223, 'heaven earth': 574, 'year film': 1543, 'watched film': 1493, 'good story': 549, 'male character': 802, 'also show': 30, 'intentionally unintentionally': 608, 'main character': 784, 'also made': 24, 'mainland movie': 788, 'pay tribute': 971, 'part film': 965, 'director want': 251, 'said film': 1139, 'positive energy': 1053, 'still believe': 1259, 'life although': 664, 'eye others': 327, 'kind life': 620, 'life also': 663, 'returned home': 1124, 'really understand': 1101, 'title book': 1406, 'biggest feature': 109, 'love like': 759, 'german soldier': 491, 'pure love': 1066, 'russian girl': 1137, 'narrative rhythm': 885, 'russian soldier': 1138, 'literature art': 714, 'russian film': 1136, 'special forces': 1243, 'world war': 1532, 'television work': 1334, 'war ii': 1487, 'way love': 1497, 'working hard': 1526, 'movie market': 868, 'whole story': 1510, 'film whether': 423, 'taken granted': 1317, 'detail film': 239, 'small detail': 1217, 'man doe': 810, 'doe love': 263, 'turn around': 1425, 'new world': 895, 'first chapter': 433, 'much possible': 877, 'sense substitution': 1182, 'piece art': 1029, 'say film': 1158, 'scene two': 1163, 'scene film': 1162, 'finally realized': 428, 'main body': 783, 'warm heart': 1490, 'fat man': 343, 'man love': 811, 'world people': 1529, 'first reaction': 442, 'year even': 1542, 'end film': 303, 'short worth': 1200, 'worth seeing': 1535, 'film first': 389, 'film although': 370, 'love see': 766, 'telling story': 1337, 'tell truth': 1336, 'love time': 770, 'however still': 596, 'life even': 667, 'finally turned': 429, 'woman love': 1519, 'love man': 762, 'opening film': 941, 'bloody battle': 116, 'film actor': 366, 'police station': 1046, 'like many': 693, 'mental illness': 836, 'plot film': 1039, 'bruce lee': 132, 'kung fu': 635, 'successful people': 1293, 'become new': 87, 'rich second': 1129, 'beautiful love': 82, 'matter many': 828, 'character film': 146, 'female character': 355, 'want take': 1481, 'lost life': 739, 'difficult understand': 245, 'action film': 1, 'also like': 21, 'husband wife': 600, 'came back': 140, 'time two': 1402, 'look film': 732, 'three view': 1372, 'next generation': 901, 'old people': 916, 'shed tear': 1189, 'bottom heart': 126, 'death squad': 216, 'flesh blood': 454, 'male lord': 805, 'play role': 1035, 'emotional drama': 301, 'people help': 984, 'director film': 249, 'people even': 979, 'real estate': 1087, 'south korean': 1237, 'cultural revolution': 203, 'bad film': 70, 'big money': 106, 'film look': 398, 'hollywood blockbuster': 587, 'bad guy': 71, 'father son': 346, 'film finally': 388, 'story two': 1288, 'true portrayal': 1422, 'performance film': 1020, 'life seems': 677, 'golden horse': 512, 'life family': 669, 'movie always': 860, 'people kind': 985, 'volga river': 1465, 'story good': 1277, 'film actually': 367, 'german army': 489, 'high degree': 580, 'soviet union': 1239, 'doe care': 259, 'want talk': 1482, 'time feel': 1380, 'thing life': 1348, 'committed suicide': 180, 'people must': 996, 'family also': 335, 'difficult say': 242, 'turning point': 1427, 'walk life': 1470, 'addition film': 7, 'short story': 1199, 'one year': 936, 'stay away': 1254, 'eight year': 297, 'ideal country': 603, 'international film': 609, 'story tell': 1287, 'make story': 799, 'two actor': 1434, 'director also': 248, 'experience also': 326, 'second part': 1170, 'iron man': 611, 'love men': 763, 'love film': 754, 'viewing experience': 1463, 'story behind': 1273, 'process watching': 1062, 'true face': 1419, 'female star': 361, 'piece film': 1030, 'emotional entanglement': 302, 'plot movie': 1040, 'reading book': 1085, 'love always': 746, 'film seen': 411, 'one important': 922, 'climax film': 167, 'course film': 190, 'film doe': 381, 'one step': 931, 'war also': 1485, 'film us': 420, 'doe give': 260, 'people different': 977, 'look feel': 731, 'beautiful thing': 84, 'film quite': 407, 'little times': 720, 'love movie': 764, 'place film': 1032, 'believe love': 93, 'happy ending': 566, 'film give': 391, 'old still': 917, 'another point': 53, 'horror movie': 592, 'many place': 822, 'also want': 34, 'world always': 1527, 'story still': 1284, 'also gave': 16, 'biggest problem': 110, 'people take': 1008, 'short period': 1198, 'two country': 1435, 'big girl': 103, 'living environment': 723, 'death also': 215, 'handsome guy': 564, 'golden shelling': 514, 'film starring': 412, 'two tough': 1447, 'order survive': 950, 'life full': 671, 'one sentence': 930, 'bottom line': 127, 'always thought': 46, 'next second': 903, 'next one': 902, 'romantic love': 1135, 'element film': 298, 'thing still': 1354, 'show love': 1202, 'get good': 494, 'said would': 1144, 'hollywood movie': 589, 'movie also': 859, 'family ethic': 336, 'really easy': 1093, 'behind scene': 92, 'hidden behind': 579, 'good person': 540, 'bad thing': 72, 'move forward': 858, 'first love': 438, 'moment life': 855, 'love life': 758, 'even love': 313, 'life still': 678, 'life want': 680, 'art film': 56, 'watch film': 1491, 'gun battle': 559, 'plot plot': 1041, 'movie story': 873, 'movie full': 862, 'film love': 399, 'film must': 404, 'said people': 1142, 'book review': 121, 'fact many': 331, 'two world': 1451, 'people thing': 1009, 'suddenly felt': 1294, 'kind person': 623, 'thing done': 1346, 'mother said': 857, 'movie love': 866, 'collective memory': 171, 'young boy': 1549, 'went back': 1501, 'watched movie': 1494, 'end movie': 304, 'hammer brother': 563, 'person love': 1023, 'let people': 657, 'worked hard': 1525, 'relationship people': 1109, 'also known': 19, 'important role': 605, 'people people': 998, 'film last': 395, 'last minute': 640, 'kind thing': 624, 'thing need': 1351, 'space time': 1241, 'content film': 185, 'success failure': 1292, 'film character': 377, 'must first': 879, 'everyone else': 320, 'new life': 892, 'everyone think': 323, 'lin zhiling': 710, 'turned around': 1426, 'zhang hanyu': 1557, 'make big': 790, 'old bone': 912, 'audience watching': 63, 'story also': 1272, 'love drama': 750, 'wife child': 1512, 'world one': 1528, 'female audience': 354, 'fang zuming': 340, 'story love': 1278, 'film based': 373, 'audience also': 61, 'chinese movie': 160, 'story full': 1276, 'although know': 36, 'life finally': 670, 'however film': 595, 'write book': 1537, 'say movie': 1160, 'simple simple': 1208, 'status quo': 1253, 'deeply immersed': 220, 'story simple': 1283, 'shaping character': 1188, 'sweetheart chocolate': 1308, 'gave birth': 488, 'love triangle': 771, 'lin yue': 709}\n",
            "\n",
            "\n",
            "[[0 0 0 ... 0 0 0]\n",
            " [0 0 0 ... 0 0 0]\n",
            " [0 0 0 ... 0 0 0]\n",
            " ...\n",
            " [0 0 0 ... 0 0 0]\n",
            " [0 0 0 ... 0 0 0]\n",
            " [0 0 0 ... 0 0 0]]\n"
          ],
          "name": "stdout"
        }
      ]
    },
    {
      "cell_type": "code",
      "metadata": {
        "id": "eEaMR-uETWUj",
        "colab_type": "code",
        "outputId": "30d0d75c-a438-4209-b7a4-28634e1db59f",
        "colab": {
          "base_uri": "https://localhost:8080/",
          "height": 433
        }
      },
      "source": [
        "#2 create an lda model to extract topics\n",
        "#4 define the top five terms across each topic\n",
        "from sklearn.decomposition import LatentDirichletAllocation\n",
        "lda = LatentDirichletAllocation(n_components=6).fit(v2)\n",
        "\n",
        "for i,topic in enumerate(lda.components_):\n",
        "    print(f'Top 10 words for topic #{i}:')\n",
        "    print([terms[i] for i in topic.argsort()[-5:]])\n",
        "    print('\\n')\n",
        "first_term=lda.transform(v2[0])\n",
        "second_term=lda.transform(v2[1])\n",
        "third_term=lda.transform(v2[2])\n",
        "fouth_term=lda.transform(v2[3])\n",
        "fifth_term=lda.transform(v2[2])"
      ],
      "execution_count": 9,
      "outputs": [
        {
          "output_type": "stream",
          "text": [
            "Top 10 words for topic #0:\n",
            "['many people', 'united states', 'tv series', 'war film', 'tv drama']\n",
            "\n",
            "\n",
            "Top 10 words for topic #1:\n",
            "['united states', 'golden shelling', 'good friend', 'year old', 'many people']\n",
            "\n",
            "\n",
            "Top 10 words for topic #2:\n",
            "['martial art', 'make people', 'kung fu', 'hong kong', 'box office']\n",
            "\n",
            "\n",
            "Top 10 words for topic #3:\n",
            "['one day', 'many people', 'blind date', 'river lake', 'every day']\n",
            "\n",
            "\n",
            "Top 10 words for topic #4:\n",
            "['taste good', 'good taste', 'like eat', 'green tea', 'ice cream']\n",
            "\n",
            "\n",
            "Top 10 words for topic #5:\n",
            "['step step', 'film also', 'love love', 'horror film', 'elf hostel']\n",
            "\n",
            "\n"
          ],
          "name": "stdout"
        }
      ]
    },
    {
      "cell_type": "markdown",
      "metadata": {
        "id": "RqkVZZfNO_lr",
        "colab_type": "text"
      },
      "source": [
        "Topic 0 seems to focus on different types of tv programs\n",
        "\n",
        "Topic 1 seems to focus on demographics across the united state\n",
        "\n",
        "Topic 2 steems to focus on martial-arts focused movies\n",
        "\n",
        "Topic 3 seems to focus on blind dating\n",
        "\n",
        "Topic 4 seems to focus on food and drink preferences and tastes\n",
        "\n",
        "Topic 5 seems to focus on film and movie preferences"
      ]
    },
    {
      "cell_type": "code",
      "metadata": {
        "id": "zNS6S3lYNIdz",
        "colab_type": "code",
        "outputId": "3f4f2896-923b-41d0-e896-ce08f24692a7",
        "colab": {
          "base_uri": "https://localhost:8080/",
          "height": 1000
        }
      },
      "source": [
        "#Prepare data to report topic distribution\n",
        "v_food = v2[1:10]\n",
        "v_movie = v2[501:510]\n",
        "print(v_food)\n",
        "print(v_movie)"
      ],
      "execution_count": 10,
      "outputs": [
        {
          "output_type": "stream",
          "text": [
            "  (0, 64)\t1\n",
            "  (0, 125)\t1\n",
            "  (0, 155)\t2\n",
            "  (0, 177)\t1\n",
            "  (0, 183)\t1\n",
            "  (0, 445)\t1\n",
            "  (0, 463)\t1\n",
            "  (0, 467)\t1\n",
            "  (0, 522)\t1\n",
            "  (0, 545)\t1\n",
            "  (0, 547)\t1\n",
            "  (0, 699)\t1\n",
            "  (0, 725)\t1\n",
            "  (0, 919)\t1\n",
            "  (0, 1038)\t1\n",
            "  (0, 1119)\t1\n",
            "  (0, 1123)\t1\n",
            "  (0, 1184)\t1\n",
            "  (0, 1245)\t1\n",
            "  (0, 1322)\t1\n",
            "  (0, 1359)\t1\n",
            "  (0, 1370)\t1\n",
            "  (0, 1374)\t1\n",
            "  (0, 1401)\t1\n",
            "  (0, 1454)\t1\n",
            "  :\t:\n",
            "  (5, 821)\t1\n",
            "  (5, 992)\t1\n",
            "  (5, 1214)\t1\n",
            "  (6, 51)\t1\n",
            "  (6, 57)\t1\n",
            "  (6, 222)\t2\n",
            "  (6, 252)\t1\n",
            "  (6, 461)\t1\n",
            "  (6, 904)\t1\n",
            "  (6, 957)\t1\n",
            "  (6, 1052)\t1\n",
            "  (6, 1059)\t1\n",
            "  (6, 1154)\t1\n",
            "  (6, 1193)\t1\n",
            "  (6, 1290)\t1\n",
            "  (6, 1305)\t2\n",
            "  (6, 1323)\t1\n",
            "  (6, 1401)\t1\n",
            "  (6, 1412)\t2\n",
            "  (6, 1424)\t2\n",
            "  (7, 57)\t1\n",
            "  (7, 516)\t1\n",
            "  (7, 547)\t1\n",
            "  (8, 261)\t1\n",
            "  (8, 629)\t1\n",
            "  (0, 88)\t1\n",
            "  (0, 244)\t1\n",
            "  (0, 598)\t1\n",
            "  (0, 627)\t1\n",
            "  (0, 727)\t2\n",
            "  (0, 798)\t1\n",
            "  (0, 821)\t1\n",
            "  (0, 825)\t2\n",
            "  (0, 888)\t1\n",
            "  (0, 1003)\t1\n",
            "  (0, 1010)\t2\n",
            "  (0, 1011)\t1\n",
            "  (0, 1347)\t1\n",
            "  (0, 1394)\t1\n",
            "  (0, 1399)\t1\n",
            "  (0, 1474)\t1\n",
            "  (0, 1531)\t2\n",
            "  (1, 112)\t1\n",
            "  (1, 144)\t1\n",
            "  (1, 317)\t1\n",
            "  (1, 338)\t1\n",
            "  (1, 369)\t1\n",
            "  (1, 406)\t1\n",
            "  (1, 509)\t1\n",
            "  (1, 568)\t1\n",
            "  :\t:\n",
            "  (8, 416)\t1\n",
            "  (8, 622)\t1\n",
            "  (8, 625)\t1\n",
            "  (8, 675)\t1\n",
            "  (8, 768)\t1\n",
            "  (8, 781)\t1\n",
            "  (8, 798)\t1\n",
            "  (8, 812)\t1\n",
            "  (8, 825)\t1\n",
            "  (8, 835)\t7\n",
            "  (8, 887)\t1\n",
            "  (8, 978)\t1\n",
            "  (8, 980)\t1\n",
            "  (8, 986)\t1\n",
            "  (8, 993)\t1\n",
            "  (8, 1047)\t1\n",
            "  (8, 1098)\t1\n",
            "  (8, 1174)\t1\n",
            "  (8, 1333)\t1\n",
            "  (8, 1374)\t2\n",
            "  (8, 1421)\t1\n",
            "  (8, 1443)\t2\n",
            "  (8, 1541)\t1\n",
            "  (8, 1544)\t1\n",
            "  (8, 1552)\t1\n"
          ],
          "name": "stdout"
        }
      ]
    },
    {
      "cell_type": "code",
      "metadata": {
        "id": "bNjk2qs_JbUy",
        "colab_type": "code",
        "outputId": "01fee1ba-9c4b-4ac4-ae00-bc540556b662",
        "colab": {
          "base_uri": "https://localhost:8080/",
          "height": 433
        }
      },
      "source": [
        "#3 Report topic distribution - Food Review\n",
        "from sklearn.decomposition import LatentDirichletAllocation\n",
        "lda = LatentDirichletAllocation(n_components=6).fit(v_food)\n",
        "\n",
        "for i,topic in enumerate(lda.components_):\n",
        "    print(f'Top 10 words for topic #{i}:')\n",
        "    print([terms[i] for i in topic.argsort()[-5:]])\n",
        "    print('\\n')"
      ],
      "execution_count": 11,
      "outputs": [
        {
          "output_type": "stream",
          "text": [
            "Top 10 words for topic #0:\n",
            "['bottle baht', 'time try', 'good service', 'value money', 'chicken wing']\n",
            "\n",
            "\n",
            "Top 10 words for topic #1:\n",
            "['eat lot', 'people eat', 'people like', 'eat restaurant', 'price baht']\n",
            "\n",
            "\n",
            "Top 10 words for topic #2:\n",
            "['people eat', 'people like', 'opposite side', 'shop opposite', 'food eat']\n",
            "\n",
            "\n",
            "Top 10 words for topic #3:\n",
            "['atmosphere good', 'try try', 'delicious delicious', 'tomato sauce', 'sweet sour']\n",
            "\n",
            "\n",
            "Top 10 words for topic #4:\n",
            "['park car', 'good atmosphere', 'atmosphere good', 'doe know', 'know restaurant']\n",
            "\n",
            "\n",
            "Top 10 words for topic #5:\n",
            "['sauce sweet', 'sweet taste', 'soup sweet', 'sweet delicious', 'per person']\n",
            "\n",
            "\n"
          ],
          "name": "stdout"
        }
      ]
    },
    {
      "cell_type": "code",
      "metadata": {
        "id": "BfCScSsuNatf",
        "colab_type": "code",
        "outputId": "fc909cb6-4751-40d9-8ac0-14b4e5b5e75c",
        "colab": {
          "base_uri": "https://localhost:8080/",
          "height": 433
        }
      },
      "source": [
        "#3 Report topic distribution - Movie review\n",
        "from sklearn.decomposition import LatentDirichletAllocation\n",
        "lda = LatentDirichletAllocation(n_components=6).fit(v_movie)\n",
        "\n",
        "for i,topic in enumerate(lda.components_):\n",
        "    print(f'Top 10 words for topic #{i}:')\n",
        "    print([terms[i] for i in topic.argsort()[-5:]])\n",
        "    print('\\n')"
      ],
      "execution_count": 12,
      "outputs": [
        {
          "output_type": "stream",
          "text": [
            "Top 10 words for topic #0:\n",
            "['united states', 'passed away', 'time passed', 'film television', 'box office']\n",
            "\n",
            "\n",
            "Top 10 words for topic #1:\n",
            "['long time', 'people think', 'world view', 'many time', 'many people']\n",
            "\n",
            "\n",
            "Top 10 words for topic #2:\n",
            "['people also', 'make difficult', 'middle school', 'film good', 'mobile phone']\n",
            "\n",
            "\n",
            "Top 10 words for topic #3:\n",
            "['make people', 'two people', 'three year', 'men woman', 'blind date']\n",
            "\n",
            "\n",
            "Top 10 words for topic #4:\n",
            "['much like', 'every day', 'part life', 'nothing wrong', 'one time']\n",
            "\n",
            "\n",
            "Top 10 words for topic #5:\n",
            "['film market', 'still many', 'bit like', 'tell story', 'domestic film']\n",
            "\n",
            "\n"
          ],
          "name": "stdout"
        }
      ]
    },
    {
      "cell_type": "code",
      "metadata": {
        "id": "-ClvUQsoPz-A",
        "colab_type": "code",
        "colab": {}
      },
      "source": [
        "print(review_data[0])"
      ],
      "execution_count": 0,
      "outputs": []
    },
    {
      "cell_type": "markdown",
      "metadata": {
        "id": "J2aI0IOEQrlW",
        "colab_type": "text"
      },
      "source": [
        "The first review describes the decor, food quality, service and overall dining experience of the restaurant, Soi Langsuan, which is located inside of the Luxx hotel"
      ]
    },
    {
      "cell_type": "code",
      "metadata": {
        "id": "2rZa_RJMQWdU",
        "colab_type": "code",
        "colab": {}
      },
      "source": [
        "print(review_data[500])"
      ],
      "execution_count": 0,
      "outputs": []
    },
    {
      "cell_type": "markdown",
      "metadata": {
        "id": "WKlzxfboRF67",
        "colab_type": "text"
      },
      "source": [
        "The last review is about a girl reflecting on a specific relationship and how she sees that impacting her life in the future. She asks specific questions about how the first meaningful relationship someone experiences defines their approach to relationships further in life"
      ]
    },
    {
      "cell_type": "code",
      "metadata": {
        "id": "4FVqvZxkRXEr",
        "colab_type": "code",
        "colab": {}
      },
      "source": [
        ""
      ],
      "execution_count": 0,
      "outputs": []
    }
  ]
}